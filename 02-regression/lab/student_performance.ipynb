{
 "cells": [
  {
   "cell_type": "markdown",
   "id": "1c1796e3-b4fa-470a-bffb-54de43a57d3c",
   "metadata": {},
   "source": [
    "## Regression Problem: Student Performance"
   ]
  },
  {
   "cell_type": "code",
   "execution_count": 226,
   "id": "8c8df487-30ca-4af0-afce-7cd68ae3e976",
   "metadata": {},
   "outputs": [],
   "source": [
    "import numpy as np\n",
    "import pandas as pd"
   ]
  },
  {
   "cell_type": "markdown",
   "id": "d8fb9700-5974-4de0-b95e-0f5fa1b7afeb",
   "metadata": {},
   "source": [
    "### To-do:\n",
    "1. Data prep\n",
    "2. EDA\n",
    "3. Validation framework\n",
    "4. X preparation\n",
    "5. Model training\n",
    "6. RMSE\n",
    "7. Regularization\n",
    "8. Validating\n",
    "9. Testing\n",
    "10. Using"
   ]
  },
  {
   "cell_type": "markdown",
   "id": "f5c59ee0-135e-4d1b-8c37-1577a49ffd88",
   "metadata": {},
   "source": [
    "## 1. Data prep"
   ]
  },
  {
   "cell_type": "code",
   "execution_count": 227,
   "id": "4566a7b9-91c5-47b0-aa03-a91af5654147",
   "metadata": {},
   "outputs": [],
   "source": [
    "df = pd.read_csv(\"../data/student-por.csv\", sep=\";\")"
   ]
  },
  {
   "cell_type": "code",
   "execution_count": 228,
   "id": "3d8aff15-54eb-494f-b460-82800ad395a0",
   "metadata": {},
   "outputs": [
    {
     "data": {
      "text/plain": [
       "Index(['school', 'sex', 'age', 'address', 'famsize', 'pstatus', 'medu', 'fedu',\n",
       "       'mjob', 'fjob', 'reason', 'guardian', 'traveltime', 'studytime',\n",
       "       'failures', 'schoolsup', 'famsup', 'paid', 'activities', 'nursery',\n",
       "       'higher', 'internet', 'romantic', 'famrel', 'freetime', 'goout', 'dalc',\n",
       "       'walc', 'health', 'absences', 'g1', 'g2', 'g3'],\n",
       "      dtype='object')"
      ]
     },
     "execution_count": 228,
     "metadata": {},
     "output_type": "execute_result"
    }
   ],
   "source": [
    "df.columns = df.columns.str.lower()\n",
    "df.columns"
   ]
  },
  {
   "cell_type": "code",
   "execution_count": 229,
   "id": "5aca5d21-99fb-4dff-a7f3-14d1ce40c0d0",
   "metadata": {},
   "outputs": [],
   "source": [
    "cat_cols = list(df.dtypes[df.dtypes == \"object\"].index)"
   ]
  },
  {
   "cell_type": "code",
   "execution_count": 230,
   "id": "dafb9b28-dcb0-488c-8c86-1281de714daf",
   "metadata": {},
   "outputs": [],
   "source": [
    "for c in cat_cols:\n",
    "    df[c] = df[c].str.lower().str.replace(\" \", \"_\")"
   ]
  },
  {
   "cell_type": "code",
   "execution_count": 231,
   "id": "14256cba-b547-4ed0-9f71-f0dc39bef841",
   "metadata": {},
   "outputs": [
    {
     "data": {
      "text/html": [
       "<div>\n",
       "<style scoped>\n",
       "    .dataframe tbody tr th:only-of-type {\n",
       "        vertical-align: middle;\n",
       "    }\n",
       "\n",
       "    .dataframe tbody tr th {\n",
       "        vertical-align: top;\n",
       "    }\n",
       "\n",
       "    .dataframe thead th {\n",
       "        text-align: right;\n",
       "    }\n",
       "</style>\n",
       "<table border=\"1\" class=\"dataframe\">\n",
       "  <thead>\n",
       "    <tr style=\"text-align: right;\">\n",
       "      <th></th>\n",
       "      <th>0</th>\n",
       "      <th>1</th>\n",
       "      <th>2</th>\n",
       "      <th>3</th>\n",
       "      <th>4</th>\n",
       "    </tr>\n",
       "  </thead>\n",
       "  <tbody>\n",
       "    <tr>\n",
       "      <th>school</th>\n",
       "      <td>gp</td>\n",
       "      <td>gp</td>\n",
       "      <td>gp</td>\n",
       "      <td>gp</td>\n",
       "      <td>gp</td>\n",
       "    </tr>\n",
       "    <tr>\n",
       "      <th>sex</th>\n",
       "      <td>f</td>\n",
       "      <td>f</td>\n",
       "      <td>f</td>\n",
       "      <td>f</td>\n",
       "      <td>f</td>\n",
       "    </tr>\n",
       "    <tr>\n",
       "      <th>age</th>\n",
       "      <td>18</td>\n",
       "      <td>17</td>\n",
       "      <td>15</td>\n",
       "      <td>15</td>\n",
       "      <td>16</td>\n",
       "    </tr>\n",
       "    <tr>\n",
       "      <th>address</th>\n",
       "      <td>u</td>\n",
       "      <td>u</td>\n",
       "      <td>u</td>\n",
       "      <td>u</td>\n",
       "      <td>u</td>\n",
       "    </tr>\n",
       "    <tr>\n",
       "      <th>famsize</th>\n",
       "      <td>gt3</td>\n",
       "      <td>gt3</td>\n",
       "      <td>le3</td>\n",
       "      <td>gt3</td>\n",
       "      <td>gt3</td>\n",
       "    </tr>\n",
       "    <tr>\n",
       "      <th>pstatus</th>\n",
       "      <td>a</td>\n",
       "      <td>t</td>\n",
       "      <td>t</td>\n",
       "      <td>t</td>\n",
       "      <td>t</td>\n",
       "    </tr>\n",
       "    <tr>\n",
       "      <th>medu</th>\n",
       "      <td>4</td>\n",
       "      <td>1</td>\n",
       "      <td>1</td>\n",
       "      <td>4</td>\n",
       "      <td>3</td>\n",
       "    </tr>\n",
       "    <tr>\n",
       "      <th>fedu</th>\n",
       "      <td>4</td>\n",
       "      <td>1</td>\n",
       "      <td>1</td>\n",
       "      <td>2</td>\n",
       "      <td>3</td>\n",
       "    </tr>\n",
       "    <tr>\n",
       "      <th>mjob</th>\n",
       "      <td>at_home</td>\n",
       "      <td>at_home</td>\n",
       "      <td>at_home</td>\n",
       "      <td>health</td>\n",
       "      <td>other</td>\n",
       "    </tr>\n",
       "    <tr>\n",
       "      <th>fjob</th>\n",
       "      <td>teacher</td>\n",
       "      <td>other</td>\n",
       "      <td>other</td>\n",
       "      <td>services</td>\n",
       "      <td>other</td>\n",
       "    </tr>\n",
       "    <tr>\n",
       "      <th>reason</th>\n",
       "      <td>course</td>\n",
       "      <td>course</td>\n",
       "      <td>other</td>\n",
       "      <td>home</td>\n",
       "      <td>home</td>\n",
       "    </tr>\n",
       "    <tr>\n",
       "      <th>guardian</th>\n",
       "      <td>mother</td>\n",
       "      <td>father</td>\n",
       "      <td>mother</td>\n",
       "      <td>mother</td>\n",
       "      <td>father</td>\n",
       "    </tr>\n",
       "    <tr>\n",
       "      <th>traveltime</th>\n",
       "      <td>2</td>\n",
       "      <td>1</td>\n",
       "      <td>1</td>\n",
       "      <td>1</td>\n",
       "      <td>1</td>\n",
       "    </tr>\n",
       "    <tr>\n",
       "      <th>studytime</th>\n",
       "      <td>2</td>\n",
       "      <td>2</td>\n",
       "      <td>2</td>\n",
       "      <td>3</td>\n",
       "      <td>2</td>\n",
       "    </tr>\n",
       "    <tr>\n",
       "      <th>failures</th>\n",
       "      <td>0</td>\n",
       "      <td>0</td>\n",
       "      <td>0</td>\n",
       "      <td>0</td>\n",
       "      <td>0</td>\n",
       "    </tr>\n",
       "    <tr>\n",
       "      <th>schoolsup</th>\n",
       "      <td>yes</td>\n",
       "      <td>no</td>\n",
       "      <td>yes</td>\n",
       "      <td>no</td>\n",
       "      <td>no</td>\n",
       "    </tr>\n",
       "    <tr>\n",
       "      <th>famsup</th>\n",
       "      <td>no</td>\n",
       "      <td>yes</td>\n",
       "      <td>no</td>\n",
       "      <td>yes</td>\n",
       "      <td>yes</td>\n",
       "    </tr>\n",
       "    <tr>\n",
       "      <th>paid</th>\n",
       "      <td>no</td>\n",
       "      <td>no</td>\n",
       "      <td>no</td>\n",
       "      <td>no</td>\n",
       "      <td>no</td>\n",
       "    </tr>\n",
       "    <tr>\n",
       "      <th>activities</th>\n",
       "      <td>no</td>\n",
       "      <td>no</td>\n",
       "      <td>no</td>\n",
       "      <td>yes</td>\n",
       "      <td>no</td>\n",
       "    </tr>\n",
       "    <tr>\n",
       "      <th>nursery</th>\n",
       "      <td>yes</td>\n",
       "      <td>no</td>\n",
       "      <td>yes</td>\n",
       "      <td>yes</td>\n",
       "      <td>yes</td>\n",
       "    </tr>\n",
       "    <tr>\n",
       "      <th>higher</th>\n",
       "      <td>yes</td>\n",
       "      <td>yes</td>\n",
       "      <td>yes</td>\n",
       "      <td>yes</td>\n",
       "      <td>yes</td>\n",
       "    </tr>\n",
       "    <tr>\n",
       "      <th>internet</th>\n",
       "      <td>no</td>\n",
       "      <td>yes</td>\n",
       "      <td>yes</td>\n",
       "      <td>yes</td>\n",
       "      <td>no</td>\n",
       "    </tr>\n",
       "    <tr>\n",
       "      <th>romantic</th>\n",
       "      <td>no</td>\n",
       "      <td>no</td>\n",
       "      <td>no</td>\n",
       "      <td>yes</td>\n",
       "      <td>no</td>\n",
       "    </tr>\n",
       "    <tr>\n",
       "      <th>famrel</th>\n",
       "      <td>4</td>\n",
       "      <td>5</td>\n",
       "      <td>4</td>\n",
       "      <td>3</td>\n",
       "      <td>4</td>\n",
       "    </tr>\n",
       "    <tr>\n",
       "      <th>freetime</th>\n",
       "      <td>3</td>\n",
       "      <td>3</td>\n",
       "      <td>3</td>\n",
       "      <td>2</td>\n",
       "      <td>3</td>\n",
       "    </tr>\n",
       "    <tr>\n",
       "      <th>goout</th>\n",
       "      <td>4</td>\n",
       "      <td>3</td>\n",
       "      <td>2</td>\n",
       "      <td>2</td>\n",
       "      <td>2</td>\n",
       "    </tr>\n",
       "    <tr>\n",
       "      <th>dalc</th>\n",
       "      <td>1</td>\n",
       "      <td>1</td>\n",
       "      <td>2</td>\n",
       "      <td>1</td>\n",
       "      <td>1</td>\n",
       "    </tr>\n",
       "    <tr>\n",
       "      <th>walc</th>\n",
       "      <td>1</td>\n",
       "      <td>1</td>\n",
       "      <td>3</td>\n",
       "      <td>1</td>\n",
       "      <td>2</td>\n",
       "    </tr>\n",
       "    <tr>\n",
       "      <th>health</th>\n",
       "      <td>3</td>\n",
       "      <td>3</td>\n",
       "      <td>3</td>\n",
       "      <td>5</td>\n",
       "      <td>5</td>\n",
       "    </tr>\n",
       "    <tr>\n",
       "      <th>absences</th>\n",
       "      <td>4</td>\n",
       "      <td>2</td>\n",
       "      <td>6</td>\n",
       "      <td>0</td>\n",
       "      <td>0</td>\n",
       "    </tr>\n",
       "    <tr>\n",
       "      <th>g1</th>\n",
       "      <td>0</td>\n",
       "      <td>9</td>\n",
       "      <td>12</td>\n",
       "      <td>14</td>\n",
       "      <td>11</td>\n",
       "    </tr>\n",
       "    <tr>\n",
       "      <th>g2</th>\n",
       "      <td>11</td>\n",
       "      <td>11</td>\n",
       "      <td>13</td>\n",
       "      <td>14</td>\n",
       "      <td>13</td>\n",
       "    </tr>\n",
       "    <tr>\n",
       "      <th>g3</th>\n",
       "      <td>11</td>\n",
       "      <td>11</td>\n",
       "      <td>12</td>\n",
       "      <td>14</td>\n",
       "      <td>13</td>\n",
       "    </tr>\n",
       "  </tbody>\n",
       "</table>\n",
       "</div>"
      ],
      "text/plain": [
       "                  0        1        2         3       4\n",
       "school           gp       gp       gp        gp      gp\n",
       "sex               f        f        f         f       f\n",
       "age              18       17       15        15      16\n",
       "address           u        u        u         u       u\n",
       "famsize         gt3      gt3      le3       gt3     gt3\n",
       "pstatus           a        t        t         t       t\n",
       "medu              4        1        1         4       3\n",
       "fedu              4        1        1         2       3\n",
       "mjob        at_home  at_home  at_home    health   other\n",
       "fjob        teacher    other    other  services   other\n",
       "reason       course   course    other      home    home\n",
       "guardian     mother   father   mother    mother  father\n",
       "traveltime        2        1        1         1       1\n",
       "studytime         2        2        2         3       2\n",
       "failures          0        0        0         0       0\n",
       "schoolsup       yes       no      yes        no      no\n",
       "famsup           no      yes       no       yes     yes\n",
       "paid             no       no       no        no      no\n",
       "activities       no       no       no       yes      no\n",
       "nursery         yes       no      yes       yes     yes\n",
       "higher          yes      yes      yes       yes     yes\n",
       "internet         no      yes      yes       yes      no\n",
       "romantic         no       no       no       yes      no\n",
       "famrel            4        5        4         3       4\n",
       "freetime          3        3        3         2       3\n",
       "goout             4        3        2         2       2\n",
       "dalc              1        1        2         1       1\n",
       "walc              1        1        3         1       2\n",
       "health            3        3        3         5       5\n",
       "absences          4        2        6         0       0\n",
       "g1                0        9       12        14      11\n",
       "g2               11       11       13        14      13\n",
       "g3               11       11       12        14      13"
      ]
     },
     "execution_count": 231,
     "metadata": {},
     "output_type": "execute_result"
    }
   ],
   "source": [
    "df.head().T"
   ]
  },
  {
   "cell_type": "markdown",
   "id": "0d66683a-3283-42e9-a41c-d83b16ddf22e",
   "metadata": {},
   "source": [
    "### 2. EDA"
   ]
  },
  {
   "cell_type": "code",
   "execution_count": 232,
   "id": "b08dbca0-ad30-4b1d-bfc8-1ffba3a01e92",
   "metadata": {},
   "outputs": [],
   "source": [
    "from IPython.display import display\n",
    "import matplotlib.pyplot as plt\n",
    "import seaborn as sns\n",
    "\n",
    "%matplotlib inline"
   ]
  },
  {
   "cell_type": "code",
   "execution_count": 233,
   "id": "b12374aa-116c-4fc9-a748-5c8f845d3367",
   "metadata": {},
   "outputs": [
    {
     "data": {
      "text/plain": [
       "'school'"
      ]
     },
     "metadata": {},
     "output_type": "display_data"
    },
    {
     "data": {
      "text/plain": [
       "array(['gp', 'ms'], dtype=object)"
      ]
     },
     "metadata": {},
     "output_type": "display_data"
    },
    {
     "data": {
      "text/plain": [
       "2"
      ]
     },
     "metadata": {},
     "output_type": "display_data"
    },
    {
     "data": {
      "text/plain": [
       "'sex'"
      ]
     },
     "metadata": {},
     "output_type": "display_data"
    },
    {
     "data": {
      "text/plain": [
       "array(['f', 'm'], dtype=object)"
      ]
     },
     "metadata": {},
     "output_type": "display_data"
    },
    {
     "data": {
      "text/plain": [
       "2"
      ]
     },
     "metadata": {},
     "output_type": "display_data"
    },
    {
     "data": {
      "text/plain": [
       "'age'"
      ]
     },
     "metadata": {},
     "output_type": "display_data"
    },
    {
     "data": {
      "text/plain": [
       "array([18, 17, 15, 16, 19])"
      ]
     },
     "metadata": {},
     "output_type": "display_data"
    },
    {
     "data": {
      "text/plain": [
       "8"
      ]
     },
     "metadata": {},
     "output_type": "display_data"
    },
    {
     "data": {
      "text/plain": [
       "'address'"
      ]
     },
     "metadata": {},
     "output_type": "display_data"
    },
    {
     "data": {
      "text/plain": [
       "array(['u', 'r'], dtype=object)"
      ]
     },
     "metadata": {},
     "output_type": "display_data"
    },
    {
     "data": {
      "text/plain": [
       "2"
      ]
     },
     "metadata": {},
     "output_type": "display_data"
    },
    {
     "data": {
      "text/plain": [
       "'famsize'"
      ]
     },
     "metadata": {},
     "output_type": "display_data"
    },
    {
     "data": {
      "text/plain": [
       "array(['gt3', 'le3'], dtype=object)"
      ]
     },
     "metadata": {},
     "output_type": "display_data"
    },
    {
     "data": {
      "text/plain": [
       "2"
      ]
     },
     "metadata": {},
     "output_type": "display_data"
    },
    {
     "data": {
      "text/plain": [
       "'pstatus'"
      ]
     },
     "metadata": {},
     "output_type": "display_data"
    },
    {
     "data": {
      "text/plain": [
       "array(['a', 't'], dtype=object)"
      ]
     },
     "metadata": {},
     "output_type": "display_data"
    },
    {
     "data": {
      "text/plain": [
       "2"
      ]
     },
     "metadata": {},
     "output_type": "display_data"
    },
    {
     "data": {
      "text/plain": [
       "'medu'"
      ]
     },
     "metadata": {},
     "output_type": "display_data"
    },
    {
     "data": {
      "text/plain": [
       "array([4, 1, 3, 2, 0])"
      ]
     },
     "metadata": {},
     "output_type": "display_data"
    },
    {
     "data": {
      "text/plain": [
       "5"
      ]
     },
     "metadata": {},
     "output_type": "display_data"
    },
    {
     "data": {
      "text/plain": [
       "'fedu'"
      ]
     },
     "metadata": {},
     "output_type": "display_data"
    },
    {
     "data": {
      "text/plain": [
       "array([4, 1, 2, 3, 0])"
      ]
     },
     "metadata": {},
     "output_type": "display_data"
    },
    {
     "data": {
      "text/plain": [
       "5"
      ]
     },
     "metadata": {},
     "output_type": "display_data"
    },
    {
     "data": {
      "text/plain": [
       "'mjob'"
      ]
     },
     "metadata": {},
     "output_type": "display_data"
    },
    {
     "data": {
      "text/plain": [
       "array(['at_home', 'health', 'other', 'services', 'teacher'], dtype=object)"
      ]
     },
     "metadata": {},
     "output_type": "display_data"
    },
    {
     "data": {
      "text/plain": [
       "5"
      ]
     },
     "metadata": {},
     "output_type": "display_data"
    },
    {
     "data": {
      "text/plain": [
       "'fjob'"
      ]
     },
     "metadata": {},
     "output_type": "display_data"
    },
    {
     "data": {
      "text/plain": [
       "array(['teacher', 'other', 'services', 'health', 'at_home'], dtype=object)"
      ]
     },
     "metadata": {},
     "output_type": "display_data"
    },
    {
     "data": {
      "text/plain": [
       "5"
      ]
     },
     "metadata": {},
     "output_type": "display_data"
    },
    {
     "data": {
      "text/plain": [
       "'reason'"
      ]
     },
     "metadata": {},
     "output_type": "display_data"
    },
    {
     "data": {
      "text/plain": [
       "array(['course', 'other', 'home', 'reputation'], dtype=object)"
      ]
     },
     "metadata": {},
     "output_type": "display_data"
    },
    {
     "data": {
      "text/plain": [
       "4"
      ]
     },
     "metadata": {},
     "output_type": "display_data"
    },
    {
     "data": {
      "text/plain": [
       "'guardian'"
      ]
     },
     "metadata": {},
     "output_type": "display_data"
    },
    {
     "data": {
      "text/plain": [
       "array(['mother', 'father', 'other'], dtype=object)"
      ]
     },
     "metadata": {},
     "output_type": "display_data"
    },
    {
     "data": {
      "text/plain": [
       "3"
      ]
     },
     "metadata": {},
     "output_type": "display_data"
    },
    {
     "data": {
      "text/plain": [
       "'traveltime'"
      ]
     },
     "metadata": {},
     "output_type": "display_data"
    },
    {
     "data": {
      "text/plain": [
       "array([2, 1, 3, 4])"
      ]
     },
     "metadata": {},
     "output_type": "display_data"
    },
    {
     "data": {
      "text/plain": [
       "4"
      ]
     },
     "metadata": {},
     "output_type": "display_data"
    },
    {
     "data": {
      "text/plain": [
       "'studytime'"
      ]
     },
     "metadata": {},
     "output_type": "display_data"
    },
    {
     "data": {
      "text/plain": [
       "array([2, 3, 1, 4])"
      ]
     },
     "metadata": {},
     "output_type": "display_data"
    },
    {
     "data": {
      "text/plain": [
       "4"
      ]
     },
     "metadata": {},
     "output_type": "display_data"
    },
    {
     "data": {
      "text/plain": [
       "'failures'"
      ]
     },
     "metadata": {},
     "output_type": "display_data"
    },
    {
     "data": {
      "text/plain": [
       "array([0, 3, 1, 2])"
      ]
     },
     "metadata": {},
     "output_type": "display_data"
    },
    {
     "data": {
      "text/plain": [
       "4"
      ]
     },
     "metadata": {},
     "output_type": "display_data"
    },
    {
     "data": {
      "text/plain": [
       "'schoolsup'"
      ]
     },
     "metadata": {},
     "output_type": "display_data"
    },
    {
     "data": {
      "text/plain": [
       "array(['yes', 'no'], dtype=object)"
      ]
     },
     "metadata": {},
     "output_type": "display_data"
    },
    {
     "data": {
      "text/plain": [
       "2"
      ]
     },
     "metadata": {},
     "output_type": "display_data"
    },
    {
     "data": {
      "text/plain": [
       "'famsup'"
      ]
     },
     "metadata": {},
     "output_type": "display_data"
    },
    {
     "data": {
      "text/plain": [
       "array(['no', 'yes'], dtype=object)"
      ]
     },
     "metadata": {},
     "output_type": "display_data"
    },
    {
     "data": {
      "text/plain": [
       "2"
      ]
     },
     "metadata": {},
     "output_type": "display_data"
    },
    {
     "data": {
      "text/plain": [
       "'paid'"
      ]
     },
     "metadata": {},
     "output_type": "display_data"
    },
    {
     "data": {
      "text/plain": [
       "array(['no', 'yes'], dtype=object)"
      ]
     },
     "metadata": {},
     "output_type": "display_data"
    },
    {
     "data": {
      "text/plain": [
       "2"
      ]
     },
     "metadata": {},
     "output_type": "display_data"
    },
    {
     "data": {
      "text/plain": [
       "'activities'"
      ]
     },
     "metadata": {},
     "output_type": "display_data"
    },
    {
     "data": {
      "text/plain": [
       "array(['no', 'yes'], dtype=object)"
      ]
     },
     "metadata": {},
     "output_type": "display_data"
    },
    {
     "data": {
      "text/plain": [
       "2"
      ]
     },
     "metadata": {},
     "output_type": "display_data"
    },
    {
     "data": {
      "text/plain": [
       "'nursery'"
      ]
     },
     "metadata": {},
     "output_type": "display_data"
    },
    {
     "data": {
      "text/plain": [
       "array(['yes', 'no'], dtype=object)"
      ]
     },
     "metadata": {},
     "output_type": "display_data"
    },
    {
     "data": {
      "text/plain": [
       "2"
      ]
     },
     "metadata": {},
     "output_type": "display_data"
    },
    {
     "data": {
      "text/plain": [
       "'higher'"
      ]
     },
     "metadata": {},
     "output_type": "display_data"
    },
    {
     "data": {
      "text/plain": [
       "array(['yes', 'no'], dtype=object)"
      ]
     },
     "metadata": {},
     "output_type": "display_data"
    },
    {
     "data": {
      "text/plain": [
       "2"
      ]
     },
     "metadata": {},
     "output_type": "display_data"
    },
    {
     "data": {
      "text/plain": [
       "'internet'"
      ]
     },
     "metadata": {},
     "output_type": "display_data"
    },
    {
     "data": {
      "text/plain": [
       "array(['no', 'yes'], dtype=object)"
      ]
     },
     "metadata": {},
     "output_type": "display_data"
    },
    {
     "data": {
      "text/plain": [
       "2"
      ]
     },
     "metadata": {},
     "output_type": "display_data"
    },
    {
     "data": {
      "text/plain": [
       "'romantic'"
      ]
     },
     "metadata": {},
     "output_type": "display_data"
    },
    {
     "data": {
      "text/plain": [
       "array(['no', 'yes'], dtype=object)"
      ]
     },
     "metadata": {},
     "output_type": "display_data"
    },
    {
     "data": {
      "text/plain": [
       "2"
      ]
     },
     "metadata": {},
     "output_type": "display_data"
    },
    {
     "data": {
      "text/plain": [
       "'famrel'"
      ]
     },
     "metadata": {},
     "output_type": "display_data"
    },
    {
     "data": {
      "text/plain": [
       "array([4, 5, 3, 1, 2])"
      ]
     },
     "metadata": {},
     "output_type": "display_data"
    },
    {
     "data": {
      "text/plain": [
       "5"
      ]
     },
     "metadata": {},
     "output_type": "display_data"
    },
    {
     "data": {
      "text/plain": [
       "'freetime'"
      ]
     },
     "metadata": {},
     "output_type": "display_data"
    },
    {
     "data": {
      "text/plain": [
       "array([3, 2, 4, 1, 5])"
      ]
     },
     "metadata": {},
     "output_type": "display_data"
    },
    {
     "data": {
      "text/plain": [
       "5"
      ]
     },
     "metadata": {},
     "output_type": "display_data"
    },
    {
     "data": {
      "text/plain": [
       "'goout'"
      ]
     },
     "metadata": {},
     "output_type": "display_data"
    },
    {
     "data": {
      "text/plain": [
       "array([4, 3, 2, 1, 5])"
      ]
     },
     "metadata": {},
     "output_type": "display_data"
    },
    {
     "data": {
      "text/plain": [
       "5"
      ]
     },
     "metadata": {},
     "output_type": "display_data"
    },
    {
     "data": {
      "text/plain": [
       "'dalc'"
      ]
     },
     "metadata": {},
     "output_type": "display_data"
    },
    {
     "data": {
      "text/plain": [
       "array([1, 2, 5, 3, 4])"
      ]
     },
     "metadata": {},
     "output_type": "display_data"
    },
    {
     "data": {
      "text/plain": [
       "5"
      ]
     },
     "metadata": {},
     "output_type": "display_data"
    },
    {
     "data": {
      "text/plain": [
       "'walc'"
      ]
     },
     "metadata": {},
     "output_type": "display_data"
    },
    {
     "data": {
      "text/plain": [
       "array([1, 3, 2, 4, 5])"
      ]
     },
     "metadata": {},
     "output_type": "display_data"
    },
    {
     "data": {
      "text/plain": [
       "5"
      ]
     },
     "metadata": {},
     "output_type": "display_data"
    },
    {
     "data": {
      "text/plain": [
       "'health'"
      ]
     },
     "metadata": {},
     "output_type": "display_data"
    },
    {
     "data": {
      "text/plain": [
       "array([3, 5, 1, 2, 4])"
      ]
     },
     "metadata": {},
     "output_type": "display_data"
    },
    {
     "data": {
      "text/plain": [
       "5"
      ]
     },
     "metadata": {},
     "output_type": "display_data"
    },
    {
     "data": {
      "text/plain": [
       "'absences'"
      ]
     },
     "metadata": {},
     "output_type": "display_data"
    },
    {
     "data": {
      "text/plain": [
       "array([ 4,  2,  6,  0, 10])"
      ]
     },
     "metadata": {},
     "output_type": "display_data"
    },
    {
     "data": {
      "text/plain": [
       "24"
      ]
     },
     "metadata": {},
     "output_type": "display_data"
    },
    {
     "data": {
      "text/plain": [
       "'g1'"
      ]
     },
     "metadata": {},
     "output_type": "display_data"
    },
    {
     "data": {
      "text/plain": [
       "array([ 0,  9, 12, 14, 11])"
      ]
     },
     "metadata": {},
     "output_type": "display_data"
    },
    {
     "data": {
      "text/plain": [
       "17"
      ]
     },
     "metadata": {},
     "output_type": "display_data"
    },
    {
     "data": {
      "text/plain": [
       "'g2'"
      ]
     },
     "metadata": {},
     "output_type": "display_data"
    },
    {
     "data": {
      "text/plain": [
       "array([11, 13, 14, 12, 16])"
      ]
     },
     "metadata": {},
     "output_type": "display_data"
    },
    {
     "data": {
      "text/plain": [
       "16"
      ]
     },
     "metadata": {},
     "output_type": "display_data"
    },
    {
     "data": {
      "text/plain": [
       "'g3'"
      ]
     },
     "metadata": {},
     "output_type": "display_data"
    },
    {
     "data": {
      "text/plain": [
       "array([11, 12, 14, 13, 17])"
      ]
     },
     "metadata": {},
     "output_type": "display_data"
    },
    {
     "data": {
      "text/plain": [
       "17"
      ]
     },
     "metadata": {},
     "output_type": "display_data"
    }
   ],
   "source": [
    "for c in df.columns:\n",
    "    display(c)\n",
    "    display(df[c].unique()[:5])\n",
    "    display(df[c].nunique())"
   ]
  },
  {
   "cell_type": "code",
   "execution_count": 234,
   "id": "7e68a2d6-484b-49bb-be40-69221226cfbb",
   "metadata": {},
   "outputs": [
    {
     "data": {
      "text/plain": [
       "<Axes: xlabel='g3', ylabel='Count'>"
      ]
     },
     "execution_count": 234,
     "metadata": {},
     "output_type": "execute_result"
    },
    {
     "data": {
      "image/png": "[encoded data removed]",
      "text/plain": [
       "<Figure size 640x480 with 1 Axes>"
      ]
     },
     "metadata": {},
     "output_type": "display_data"
    }
   ],
   "source": [
    "sns.histplot(df.g3)"
   ]
  },
  {
   "cell_type": "code",
   "execution_count": 235,
   "id": "58d7c2ec-ecbb-42a4-9ea2-133241c3e0da",
   "metadata": {},
   "outputs": [
    {
     "data": {
      "text/plain": [
       "<Axes: xlabel='g3', ylabel='Count'>"
      ]
     },
     "execution_count": 235,
     "metadata": {},
     "output_type": "execute_result"
    },
    {
     "data": {
      "image/png": "[encoded data removed]",
      "text/plain": [
       "<Figure size 640x480 with 1 Axes>"
      ]
     },
     "metadata": {},
     "output_type": "display_data"
    }
   ],
   "source": [
    "sns.histplot(np.log1p(df.g3))"
   ]
  },
  {
   "cell_type": "code",
   "execution_count": 236,
   "id": "8460df7e-bb77-4c85-8179-09e2023c3b25",
   "metadata": {},
   "outputs": [
    {
     "data": {
      "text/plain": [
       "school        0\n",
       "sex           0\n",
       "age           0\n",
       "address       0\n",
       "famsize       0\n",
       "pstatus       0\n",
       "medu          0\n",
       "fedu          0\n",
       "mjob          0\n",
       "fjob          0\n",
       "reason        0\n",
       "guardian      0\n",
       "traveltime    0\n",
       "studytime     0\n",
       "failures      0\n",
       "schoolsup     0\n",
       "famsup        0\n",
       "paid          0\n",
       "activities    0\n",
       "nursery       0\n",
       "higher        0\n",
       "internet      0\n",
       "romantic      0\n",
       "famrel        0\n",
       "freetime      0\n",
       "goout         0\n",
       "dalc          0\n",
       "walc          0\n",
       "health        0\n",
       "absences      0\n",
       "g1            0\n",
       "g2            0\n",
       "g3            0\n",
       "dtype: int64"
      ]
     },
     "execution_count": 236,
     "metadata": {},
     "output_type": "execute_result"
    }
   ],
   "source": [
    "df.isnull().sum().T"
   ]
  },
  {
   "cell_type": "markdown",
   "id": "c363d72a-ceb5-485b-af78-e20e4afce91d",
   "metadata": {},
   "source": [
    "### 3. Validation framework"
   ]
  },
  {
   "cell_type": "code",
   "execution_count": 237,
   "id": "ff5ecd54-ca71-4eec-92ac-6e5c28282f5b",
   "metadata": {},
   "outputs": [
    {
     "data": {
      "text/plain": [
       "(391, 129, 129)"
      ]
     },
     "execution_count": 237,
     "metadata": {},
     "output_type": "execute_result"
    }
   ],
   "source": [
    "n = len(df)\n",
    "\n",
    "n_val = int(n * 0.2)\n",
    "n_test = int(n * 0.2)\n",
    "n_train = n - n_val - n_test\n",
    "\n",
    "n_train, n_val, n_test"
   ]
  },
  {
   "cell_type": "code",
   "execution_count": 238,
   "id": "fbadf747-5193-4534-a489-42b057b0f173",
   "metadata": {},
   "outputs": [],
   "source": [
    "idx = np.arange(n)\n",
    "\n",
    "np.random.seed(3)\n",
    "np.random.shuffle(idx)"
   ]
  },
  {
   "cell_type": "code",
   "execution_count": 239,
   "id": "256b0c24-d19c-4d7b-9741-6ba1e6ba71b4",
   "metadata": {},
   "outputs": [
    {
     "data": {
      "text/plain": [
       "(391, 129, 129)"
      ]
     },
     "execution_count": 239,
     "metadata": {},
     "output_type": "execute_result"
    }
   ],
   "source": [
    "df_train = df.iloc[idx[:n_train]]\n",
    "df_val = df.iloc[idx[n_train: n_train + n_val]]\n",
    "df_test = df.iloc[idx[n_train + n_val:]]\n",
    "\n",
    "len(df_train), len(df_val), len(df_test)"
   ]
  },
  {
   "cell_type": "code",
   "execution_count": 240,
   "id": "17a67314-74f2-4ee1-ab48-f99fe5bd0c38",
   "metadata": {},
   "outputs": [],
   "source": [
    "df_train = df_train.reset_index(drop=True)\n",
    "df_val = df_val.reset_index(drop=True)\n",
    "df_test = df_test.reset_index(drop=True)"
   ]
  },
  {
   "cell_type": "code",
   "execution_count": 241,
   "id": "829f0ead-40c1-48e8-968a-c9ea1b4fa0fc",
   "metadata": {},
   "outputs": [],
   "source": [
    "y_train = np.log1p(df_train.g3.values)\n",
    "y_val = np.log1p(df_val.g3.values)\n",
    "y_test = np.log1p(df_test.g3.values)"
   ]
  },
  {
   "cell_type": "code",
   "execution_count": 242,
   "id": "cb2b4d65-f42f-452f-acbc-5e1a6c12eb7f",
   "metadata": {},
   "outputs": [],
   "source": [
    "del df_train[\"g3\"]\n",
    "del df_val[\"g3\"]\n",
    "del df_test[\"g3\"]"
   ]
  },
  {
   "cell_type": "markdown",
   "id": "be846cae-f3e9-49a0-acc4-13d801a770d5",
   "metadata": {},
   "source": [
    "### 4. X preparation"
   ]
  },
  {
   "cell_type": "code",
   "execution_count": 243,
   "id": "07d69bf3-1f2a-4354-bead-4f229bf8957f",
   "metadata": {},
   "outputs": [
    {
     "data": {
      "text/plain": [
       "Index(['age', 'medu', 'fedu', 'traveltime', 'studytime', 'failures', 'famrel',\n",
       "       'freetime', 'goout', 'dalc', 'walc', 'health', 'absences', 'g1', 'g2'],\n",
       "      dtype='object')"
      ]
     },
     "execution_count": 243,
     "metadata": {},
     "output_type": "execute_result"
    }
   ],
   "source": [
    "cat_vars = df_train.dtypes[df.dtypes == \"object\"].index\n",
    "num_vars = df_train.dtypes[df.dtypes != \"object\"].index\n",
    "num_vars"
   ]
  },
  {
   "cell_type": "code",
   "execution_count": 244,
   "id": "bba3ff4b-e82e-4c7a-91c8-72bdb00a6d57",
   "metadata": {},
   "outputs": [
    {
     "data": {
      "text/plain": [
       "{'school': ['gp', 'ms'],\n",
       " 'sex': ['f', 'm'],\n",
       " 'address': ['u', 'r'],\n",
       " 'famsize': ['gt3', 'le3'],\n",
       " 'pstatus': ['t', 'a'],\n",
       " 'mjob': ['other', 'services', 'at_home', 'teacher', 'health'],\n",
       " 'fjob': ['other', 'services', 'at_home', 'teacher', 'health'],\n",
       " 'reason': ['course', 'home', 'reputation', 'other'],\n",
       " 'guardian': ['mother', 'father', 'other'],\n",
       " 'schoolsup': ['no', 'yes'],\n",
       " 'famsup': ['yes', 'no'],\n",
       " 'paid': ['no', 'yes'],\n",
       " 'activities': ['no', 'yes'],\n",
       " 'nursery': ['yes', 'no'],\n",
       " 'higher': ['yes', 'no'],\n",
       " 'internet': ['yes', 'no'],\n",
       " 'romantic': ['no', 'yes']}"
      ]
     },
     "execution_count": 244,
     "metadata": {},
     "output_type": "execute_result"
    }
   ],
   "source": [
    "cat_cols = {}\n",
    "\n",
    "for c in cat_vars:\n",
    "    cat_cols[c] = list(df_train[c].value_counts().index)\n",
    "\n",
    "cat_cols"
   ]
  },
  {
   "cell_type": "code",
   "execution_count": 245,
   "id": "973d22f5-208c-4cb3-a8dd-c54369e0173e",
   "metadata": {},
   "outputs": [],
   "source": [
    "def prepare_X(df):\n",
    "    df_num = df.copy()\n",
    "\n",
    "    features = list(num_vars)\n",
    "    for n, l in cat_cols.items():\n",
    "        for v in l:\n",
    "            df_num[f\"{n}_{v}\"] = (df_num[n] == v).astype(int)\n",
    "            features.append(f\"{n}_{v}\")\n",
    "    \n",
    "    df_num = df_num[features].fillna(0)\n",
    "    X = df_num.values\n",
    "\n",
    "    return X"
   ]
  },
  {
   "cell_type": "code",
   "execution_count": 246,
   "id": "eaa0aabf-2757-4752-9a35-26b41cdd7590",
   "metadata": {},
   "outputs": [
    {
     "data": {
      "text/plain": [
       "array([[17,  2,  4, ...,  0,  0,  1],\n",
       "       [16,  4,  2, ...,  0,  0,  1],\n",
       "       [17,  3,  3, ...,  0,  1,  0],\n",
       "       ...,\n",
       "       [16,  2,  2, ...,  1,  0,  1],\n",
       "       [16,  2,  3, ...,  0,  1,  0],\n",
       "       [16,  1,  1, ...,  0,  1,  0]], shape=(391, 58))"
      ]
     },
     "execution_count": 246,
     "metadata": {},
     "output_type": "execute_result"
    }
   ],
   "source": [
    "X_train = prepare_X(df_train)\n",
    "X_train"
   ]
  },
  {
   "cell_type": "markdown",
   "id": "53694070-d2f2-4ceb-8b1a-18def07076c8",
   "metadata": {},
   "source": [
    "### 5. Model training\n",
    "$$ g(x_i) = w_0 + x_i^T w \\approx y $$\n",
    "$$ g(x) = Xw \\approx y $$\n",
    "$$ w = (X^{T}X)^{-1} X^T y $$"
   ]
  },
  {
   "cell_type": "code",
   "execution_count": 247,
   "id": "09a394ba-65e4-48d8-a203-ca91847e38ca",
   "metadata": {},
   "outputs": [],
   "source": [
    "def train_linreg(X, y):\n",
    "    ones = np.ones(X.shape[0])\n",
    "    X = np.column_stack([ones, X])\n",
    "\n",
    "    XTX = X.T.dot(X)\n",
    "    XTX_inv = np.linalg.inv(XTX)\n",
    "    w_full = XTX_inv.dot(X.T).dot(y)\n",
    "\n",
    "    return w_full[0], w_full[1:]"
   ]
  },
  {
   "cell_type": "code",
   "execution_count": 248,
   "id": "a54c8161-71f6-400d-b076-c1e29690b1f3",
   "metadata": {},
   "outputs": [
    {
     "data": {
      "text/plain": [
       "array([  4., -18.,  -2., -16.,   6., -16., -18., -14., -22.,  10.,  -2.,\n",
       "       -14.,   2.,  18., -10.,  10.,   4., -38.,  20., -22., -14.,   2.,\n",
       "       -42., -22., -38.,  10., -10.,   6.,   4.,   6.,   4.,  -6.,  -8.,\n",
       "       -16.,  -6.,   6.,  -4., -14., -12., -32., -28., -18.,   4., -26.,\n",
       "       -20., -18., -34., -10., -14., -20.,  14.,   8., -24.,   4.,   8.,\n",
       "       -14.,  16.,   8., -26.,  28.,  -8.,  -4.,  12., -34., -10., -24.,\n",
       "        18., -12.,  -8., -14.,  12., -26., -24.,   2.,   2.,  38., -12.,\n",
       "       -24., -10., -24.,   0.,  -8., -20.,  18., -34.,  -6.,  18., -16.,\n",
       "        16., -10., -14.,  -8.,  -2.,   2.,  10.,  -6.,  -8., -12.,   6.,\n",
       "       -32.,  10., -22.,   4., -24.,  -2., -28., -12., -10.,   6.,  10.,\n",
       "       -32.,  22., -18.,  -8., -16., -20.,  -6., -24.,  28.,  16., -16.,\n",
       "       -30.,  -2.,   0.,  -6.,  -2.,  22.,   0., -22., -16., -24., -30.,\n",
       "       -26.,   2., -32.,  -6., -20., -12., -24.,   0.,  -2., -10., -16.,\n",
       "       -24., -24., -12.,  -8., -16.,  -8., -12., -14., -14.,   4.,   6.,\n",
       "       -12., -28.,  -4.,   8., -54.,   8., -20.,  24.,  14., -10.,  14.,\n",
       "        26., -10.,  26., -12.,  -4., -24., -10.,  18., -34.,  -2., -14.,\n",
       "       -34., -14.,  -6.,   6.,  -6., -18.,  14.,  -2., -18., -18., -18.,\n",
       "       -14., -10.,  10.,  -2.,  -2.,  -6.,  -8., -18., -10.,  -8., -16.,\n",
       "       -20., -26., -14.,  -8., -24., -26., -14., -24.,  26.,  12.,  -4.,\n",
       "        -2., -24., -10., -40.,  12.,  -8.,  20.,  -2.,   8.,  12., -18.,\n",
       "       -16., -10., -14.,  -8.,  -8.,  16.,  20., -12., -10., -14., -12.,\n",
       "       -16.,  20.,  12., -14.,  -6., -24., -22., -12.,   4.,  10.,  18.,\n",
       "       -16., -10.,  -8., -32.,  -6.,  -8.,   4.,  -6., -18., -22., -18.,\n",
       "       -10., -36.,   8.,   0., -28., -10.,   4., -18.,   2., -16.,  10.,\n",
       "       -18.,  -8.,  -6.,   6.,  -6.,   4., -26., -18.,  -6.,   6.,  -4.,\n",
       "        16.,  16.,  20.,   2.,  -8.,   2., -14., -34.,  -2., -34.,  12.,\n",
       "       -18.,  -8., -26., -14., -24.,  30., -20., -22., -16.,  -6., -22.,\n",
       "        -4., -28.,   2., -16.,  -6.,  10., -14.,  18., -14.,  18.,   4.,\n",
       "       -12.,  -4.,   8., -16.,  -8.,   0., -26., -16., -20., -22.,  20.,\n",
       "       -16., -10.,  -8., -10., -14.,   2.,  -4.,  -2., -16.,  -4.,  14.,\n",
       "        -4.,  12.,   4., -26.,  20., -32., -12., -14.,  -6.,   6., -34.,\n",
       "       -14.,  -4.,  -2., -20.,   2., -10.,   8.,   0.,  10.,   0., -30.,\n",
       "       -18.,  -6., -18., -14.,  -2., -18., -12., -28.,   6.,  -2., -32.,\n",
       "        20.,  10.,  -2.,   0., -34.,  30., -18.,   2.,  -4.,  -2., -20.,\n",
       "        -4., -28.,   4.,  20.,   8.,  10.,  -2.,  -2., -10.,   0., -16.,\n",
       "       -22.,  14.,  -6., -14., -14., -14.])"
      ]
     },
     "execution_count": 248,
     "metadata": {},
     "output_type": "execute_result"
    }
   ],
   "source": [
    "X_train = prepare_X(df_train)\n",
    "w0, w = train_linreg(X_train, y_train)\n",
    "y_pred = w0 + X_train.dot(w)\n",
    "y_pred"
   ]
  },
  {
   "cell_type": "code",
   "execution_count": 249,
   "id": "4f12e8ef-5b8f-493c-b204-9187cc3993de",
   "metadata": {},
   "outputs": [
    {
     "data": {
      "text/plain": [
       "<Axes: ylabel='Count'>"
      ]
     },
     "execution_count": 249,
     "metadata": {},
     "output_type": "execute_result"
    },
    {
     "data": {
      "image/png": "[encoded data removed]",
      "text/plain": [
       "<Figure size 640x480 with 1 Axes>"
      ]
     },
     "metadata": {},
     "output_type": "display_data"
    }
   ],
   "source": [
    "sns.histplot(y_pred, color=\"red\", alpha=0.5)\n",
    "sns.histplot(y_train, color=\"blue\", alpha=0.5)"
   ]
  },
  {
   "cell_type": "markdown",
   "id": "8d8de939-dcc9-4b49-86ac-dc9cdb5c421c",
   "metadata": {},
   "source": [
    "### 6. RMSE\n",
    "\n",
    "$$ \\sqrt{\\sum_{i=1}^m \\frac{(y_i - g(x_i))^2}{m}} $$"
   ]
  },
  {
   "cell_type": "code",
   "execution_count": 250,
   "id": "4f87b539-a95b-4850-941c-a213e1d8c6e2",
   "metadata": {},
   "outputs": [],
   "source": [
    "def rmse(y, y_pred):\n",
    "    se = (y - y_pred) ** 2\n",
    "    mse = se.mean()\n",
    "    return np.sqrt(mse)"
   ]
  },
  {
   "cell_type": "code",
   "execution_count": 251,
   "id": "577a1b5f-4224-4519-98fc-520b80bcc969",
   "metadata": {},
   "outputs": [
    {
     "data": {
      "text/plain": [
       "np.float64(17.836894483552943)"
      ]
     },
     "execution_count": 251,
     "metadata": {},
     "output_type": "execute_result"
    }
   ],
   "source": [
    "rmse(y_train, y_pred)"
   ]
  },
  {
   "cell_type": "markdown",
   "id": "b365e2fd-73ad-441e-9dfb-e1f08f373cbe",
   "metadata": {},
   "source": [
    "### 7. Regularization"
   ]
  },
  {
   "cell_type": "code",
   "execution_count": 252,
   "id": "ee01d9dd-0420-4955-b10d-52b6d5b36ea6",
   "metadata": {},
   "outputs": [],
   "source": [
    "def train_linreg(X, y, r=0.01):\n",
    "    ones = np.ones(X.shape[0])\n",
    "    X = np.column_stack([ones, X])\n",
    "\n",
    "    XTX = X.T.dot(X)\n",
    "    XTX = XTX + r * np.eye(XTX.shape[0])\n",
    "    \n",
    "    XTX_inv = np.linalg.inv(XTX)\n",
    "    w_full = XTX_inv.dot(X.T).dot(y)\n",
    "\n",
    "    return w_full[0], w_full[1:]"
   ]
  },
  {
   "cell_type": "code",
   "execution_count": 253,
   "id": "81250782-087d-4217-9a12-eebad9778119",
   "metadata": {},
   "outputs": [
    {
     "data": {
      "text/plain": [
       "np.float64(17.836894483552943)"
      ]
     },
     "metadata": {},
     "output_type": "display_data"
    },
    {
     "data": {
      "text/plain": [
       "np.float64(0.23105340114811404)"
      ]
     },
     "metadata": {},
     "output_type": "display_data"
    },
    {
     "data": {
      "text/plain": [
       "np.float64(0.23105340115116707)"
      ]
     },
     "metadata": {},
     "output_type": "display_data"
    },
    {
     "data": {
      "text/plain": [
       "np.float64(0.2310534014568852)"
      ]
     },
     "metadata": {},
     "output_type": "display_data"
    },
    {
     "data": {
      "text/plain": [
       "np.float64(0.23105343196819966)"
      ]
     },
     "metadata": {},
     "output_type": "display_data"
    },
    {
     "data": {
      "text/plain": [
       "np.float64(0.23105642367171536)"
      ]
     },
     "metadata": {},
     "output_type": "display_data"
    },
    {
     "data": {
      "text/plain": [
       "np.float64(0.23130455379334694)"
      ]
     },
     "metadata": {},
     "output_type": "display_data"
    },
    {
     "data": {
      "text/plain": [
       "np.float64(0.23817636989067836)"
      ]
     },
     "metadata": {},
     "output_type": "display_data"
    }
   ],
   "source": [
    "for r in (0.0, 0.00001, 0.0001, 0.001, 0.01, 0.1, 1, 10):\n",
    "    X_train = prepare_X(df_train)\n",
    "    w0, w = train_linreg(X_train, y_train, r)\n",
    "    y_pred = w0 + X_train.dot(w)\n",
    "    score = rmse(y_train, y_pred)\n",
    "    display(score)"
   ]
  },
  {
   "cell_type": "code",
   "execution_count": 254,
   "id": "6be8c052-ac61-4d57-8aca-6217f476274e",
   "metadata": {},
   "outputs": [
    {
     "data": {
      "text/plain": [
       "np.float64(0.2310534014568852)"
      ]
     },
     "execution_count": 254,
     "metadata": {},
     "output_type": "execute_result"
    }
   ],
   "source": [
    "r = 0.001\n",
    "X_train = prepare_X(df_train)\n",
    "w0, w = train_linreg(X_train, y_train, r)\n",
    "y_pred = w0 + X_train.dot(w)\n",
    "score = rmse(y_train, y_pred)\n",
    "score"
   ]
  },
  {
   "cell_type": "code",
   "execution_count": 255,
   "id": "891d5556-2664-48b3-97aa-c05789c65bc5",
   "metadata": {},
   "outputs": [
    {
     "data": {
      "text/plain": [
       "(np.float64(14.999999999999998), np.float64(15.726871329262599))"
      ]
     },
     "execution_count": 255,
     "metadata": {},
     "output_type": "execute_result"
    }
   ],
   "source": [
    "np.expm1(y_train[21]), np.expm1(y_pred[21])"
   ]
  },
  {
   "cell_type": "markdown",
   "id": "f9f25d55-417a-4c3a-a412-2e2f57fc39bb",
   "metadata": {},
   "source": [
    "### 8. Validation"
   ]
  },
  {
   "cell_type": "code",
   "execution_count": 256,
   "id": "cc6d3847-1d53-45a2-b9d6-6fa61a5c731b",
   "metadata": {},
   "outputs": [
    {
     "data": {
      "text/plain": [
       "np.float64(0.37048229771687846)"
      ]
     },
     "execution_count": 256,
     "metadata": {},
     "output_type": "execute_result"
    }
   ],
   "source": [
    "r = 0.001\n",
    "X_train = prepare_X(df_train)\n",
    "w0, w = train_linreg(X_train, y_train, r)\n",
    "\n",
    "X_val = prepare_X(df_val)\n",
    "y_pred = w0 + X_val.dot(w)\n",
    "score = rmse(y_val, y_pred)\n",
    "score"
   ]
  },
  {
   "cell_type": "code",
   "execution_count": 257,
   "id": "e89942a3-6cae-4609-afcf-f71753800451",
   "metadata": {},
   "outputs": [
    {
     "data": {
      "text/plain": [
       "<Axes: ylabel='Count'>"
      ]
     },
     "execution_count": 257,
     "metadata": {},
     "output_type": "execute_result"
    },
    {
     "data": {
      "image/png": "[encoded data removed]",
      "text/plain": [
       "<Figure size 640x480 with 1 Axes>"
      ]
     },
     "metadata": {},
     "output_type": "display_data"
    }
   ],
   "source": [
    "sns.histplot(y_pred, color=\"red\", alpha=0.5)\n",
    "sns.histplot(y_val, color=\"blue\", alpha=0.5)"
   ]
  },
  {
   "cell_type": "markdown",
   "id": "352b8dad-866b-4f88-bd25-47368aa5ebcf",
   "metadata": {},
   "source": [
    "### 9. Testing"
   ]
  },
  {
   "cell_type": "code",
   "execution_count": 258,
   "id": "7295c736-5d9b-4c07-a02d-6e9ddc025776",
   "metadata": {},
   "outputs": [],
   "source": [
    "df_full_train = pd.concat([df_train, df_val])\n",
    "y_full_train = np.concatenate([y_train, y_val])"
   ]
  },
  {
   "cell_type": "code",
   "execution_count": 259,
   "id": "47a95b77-2e72-4b7d-8a84-13a121984696",
   "metadata": {},
   "outputs": [
    {
     "data": {
      "text/plain": [
       "np.float64(0.32513220854018776)"
      ]
     },
     "execution_count": 259,
     "metadata": {},
     "output_type": "execute_result"
    }
   ],
   "source": [
    "r = 0.001\n",
    "X_full_train = prepare_X(df_full_train)\n",
    "w0, w = train_linreg(X_full_train, y_full_train, r)\n",
    "\n",
    "X_test = prepare_X(df_test)\n",
    "y_pred = w0 + X_test.dot(w)\n",
    "score = rmse(y_test, y_pred)\n",
    "score"
   ]
  },
  {
   "cell_type": "code",
   "execution_count": 260,
   "id": "10b9e153-20e3-4d24-80bb-83ddbc006c8c",
   "metadata": {},
   "outputs": [
    {
     "data": {
      "text/plain": [
       "<Axes: ylabel='Count'>"
      ]
     },
     "execution_count": 260,
     "metadata": {},
     "output_type": "execute_result"
    },
    {
     "data": {
      "image/png": "[encoded data removed]",
      "text/plain": [
       "<Figure size 640x480 with 1 Axes>"
      ]
     },
     "metadata": {},
     "output_type": "display_data"
    }
   ],
   "source": [
    "sns.histplot(y_pred, color=\"red\", alpha=0.5)\n",
    "sns.histplot(y_test, color=\"blue\", alpha=0.5)"
   ]
  },
  {
   "cell_type": "markdown",
   "id": "f72ce93d-cb41-4c3e-9684-541a26eeeb3b",
   "metadata": {},
   "source": [
    "### 10. Using"
   ]
  },
  {
   "cell_type": "code",
   "execution_count": 261,
   "id": "5dfc7f3e-b623-4045-9105-e073a2ddacfb",
   "metadata": {},
   "outputs": [
    {
     "data": {
      "text/plain": [
       "{'school': 'gp',\n",
       " 'sex': 'm',\n",
       " 'age': 15,\n",
       " 'address': 'u',\n",
       " 'famsize': 'gt3',\n",
       " 'pstatus': 't',\n",
       " 'medu': 2,\n",
       " 'fedu': 2,\n",
       " 'mjob': 'other',\n",
       " 'fjob': 'other',\n",
       " 'reason': 'home',\n",
       " 'guardian': 'mother',\n",
       " 'traveltime': 1,\n",
       " 'studytime': 1,\n",
       " 'failures': 0,\n",
       " 'schoolsup': 'no',\n",
       " 'famsup': 'yes',\n",
       " 'paid': 'no',\n",
       " 'activities': 'no',\n",
       " 'nursery': 'yes',\n",
       " 'higher': 'yes',\n",
       " 'internet': 'yes',\n",
       " 'romantic': 'no',\n",
       " 'famrel': 4,\n",
       " 'freetime': 2,\n",
       " 'goout': 2,\n",
       " 'dalc': 1,\n",
       " 'walc': 2,\n",
       " 'health': 5,\n",
       " 'absences': 8,\n",
       " 'g1': 11,\n",
       " 'g2': 12}"
      ]
     },
     "execution_count": 261,
     "metadata": {},
     "output_type": "execute_result"
    }
   ],
   "source": [
    "student_id = 25\n",
    "student = df_test.iloc[student_id].to_dict()\n",
    "student"
   ]
  },
  {
   "cell_type": "code",
   "execution_count": 262,
   "id": "a7b99414-d93e-49dd-8d20-542734d00da7",
   "metadata": {},
   "outputs": [
    {
     "data": {
      "text/html": [
       "<div>\n",
       "<style scoped>\n",
       "    .dataframe tbody tr th:only-of-type {\n",
       "        vertical-align: middle;\n",
       "    }\n",
       "\n",
       "    .dataframe tbody tr th {\n",
       "        vertical-align: top;\n",
       "    }\n",
       "\n",
       "    .dataframe thead th {\n",
       "        text-align: right;\n",
       "    }\n",
       "</style>\n",
       "<table border=\"1\" class=\"dataframe\">\n",
       "  <thead>\n",
       "    <tr style=\"text-align: right;\">\n",
       "      <th></th>\n",
       "      <th>school</th>\n",
       "      <th>sex</th>\n",
       "      <th>age</th>\n",
       "      <th>address</th>\n",
       "      <th>famsize</th>\n",
       "      <th>pstatus</th>\n",
       "      <th>medu</th>\n",
       "      <th>fedu</th>\n",
       "      <th>mjob</th>\n",
       "      <th>fjob</th>\n",
       "      <th>...</th>\n",
       "      <th>romantic</th>\n",
       "      <th>famrel</th>\n",
       "      <th>freetime</th>\n",
       "      <th>goout</th>\n",
       "      <th>dalc</th>\n",
       "      <th>walc</th>\n",
       "      <th>health</th>\n",
       "      <th>absences</th>\n",
       "      <th>g1</th>\n",
       "      <th>g2</th>\n",
       "    </tr>\n",
       "  </thead>\n",
       "  <tbody>\n",
       "    <tr>\n",
       "      <th>0</th>\n",
       "      <td>gp</td>\n",
       "      <td>m</td>\n",
       "      <td>15</td>\n",
       "      <td>u</td>\n",
       "      <td>gt3</td>\n",
       "      <td>t</td>\n",
       "      <td>2</td>\n",
       "      <td>2</td>\n",
       "      <td>other</td>\n",
       "      <td>other</td>\n",
       "      <td>...</td>\n",
       "      <td>no</td>\n",
       "      <td>4</td>\n",
       "      <td>2</td>\n",
       "      <td>2</td>\n",
       "      <td>1</td>\n",
       "      <td>2</td>\n",
       "      <td>5</td>\n",
       "      <td>8</td>\n",
       "      <td>11</td>\n",
       "      <td>12</td>\n",
       "    </tr>\n",
       "  </tbody>\n",
       "</table>\n",
       "<p>1 rows × 32 columns</p>\n",
       "</div>"
      ],
      "text/plain": [
       "  school sex  age address famsize pstatus  medu  fedu   mjob   fjob  ...  \\\n",
       "0     gp   m   15       u     gt3       t     2     2  other  other  ...   \n",
       "\n",
       "  romantic famrel  freetime  goout  dalc walc health absences  g1  g2  \n",
       "0       no      4         2      2     1    2      5        8  11  12  \n",
       "\n",
       "[1 rows x 32 columns]"
      ]
     },
     "execution_count": 262,
     "metadata": {},
     "output_type": "execute_result"
    }
   ],
   "source": [
    "df_student = pd.DataFrame([student])\n",
    "y_target = np.expm1(y_test[student_id])\n",
    "df_student"
   ]
  },
  {
   "cell_type": "code",
   "execution_count": 268,
   "id": "dcce2631-9fa6-4994-8352-e2631f5e2680",
   "metadata": {},
   "outputs": [
    {
     "name": "stdout",
     "output_type": "stream",
     "text": [
      "student_25 \n",
      "prediction: 13.49 \ttarget: 12.0\n"
     ]
    }
   ],
   "source": [
    "r = 0.001\n",
    "X_full_train = prepare_X(df_full_train)\n",
    "w0, w = train_linreg(X_full_train, y_full_train, r)\n",
    "\n",
    "X_student = prepare_X(df_student)\n",
    "y_pred = w0 + X_student.dot(w)\n",
    "y_pred = np.expm1(y_pred[0])\n",
    "print(f\"student_{student_id} \\nprediction: {round(y_pred, 2)} \\ttarget: {y_target}\")"
   ]
  },
  {
   "cell_type": "code",
   "execution_count": null,
   "id": "d59cd17b-9482-4f39-9dc5-a9bd88492c41",
   "metadata": {},
   "outputs": [],
   "source": []
  }
 ],
 "metadata": {
  "kernelspec": {
   "display_name": "ml-zoomcamp-playground",
   "language": "python",
   "name": "ml-zoomcamp-playground"
  },
  "language_info": {
   "codemirror_mode": {
    "name": "ipython",
    "version": 3
   },
   "file_extension": ".py",
   "mimetype": "text/x-python",
   "name": "python",
   "nbconvert_exporter": "python",
   "pygments_lexer": "ipython3",
   "version": "3.11.2"
  }
 },
 "nbformat": 4,
 "nbformat_minor": 5
}
