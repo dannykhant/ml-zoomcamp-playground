{
 "cells": [
  {
   "cell_type": "markdown",
   "id": "cca7f74f-6432-44ca-bcd8-95a0c6a99a1a",
   "metadata": {},
   "source": [
    "#### Vector Operations"
   ]
  },
  {
   "cell_type": "code",
   "execution_count": 1,
   "id": "9542372f-03ae-499a-8009-538a40073a19",
   "metadata": {},
   "outputs": [],
   "source": [
    "import numpy as np"
   ]
  },
  {
   "cell_type": "code",
   "execution_count": 7,
   "id": "bf315645-5aa6-4d50-ace4-ba19c5c2b602",
   "metadata": {},
   "outputs": [],
   "source": [
    "u = np.array([1, 2, 3, 4, 5])\n",
    "v = np.array([1, 3, 5, 7, 9])"
   ]
  },
  {
   "cell_type": "code",
   "execution_count": 8,
   "id": "2d23188b-251b-4259-b50a-1f53b2155dd2",
   "metadata": {},
   "outputs": [
    {
     "data": {
      "text/plain": [
       "array([ 2,  5,  8, 11, 14])"
      ]
     },
     "execution_count": 8,
     "metadata": {},
     "output_type": "execute_result"
    }
   ],
   "source": [
    "u + v"
   ]
  },
  {
   "cell_type": "markdown",
   "id": "21222f53-a7a9-4012-820e-879f8aea3df9",
   "metadata": {},
   "source": [
    "#### Vector-vector multiplication"
   ]
  },
  {
   "cell_type": "code",
   "execution_count": 9,
   "id": "f13fffa6-cb5a-48eb-9053-8dfead94a8a6",
   "metadata": {},
   "outputs": [],
   "source": [
    "def vtv_multiplication(u, v):\n",
    "    assert u.shape[0] == v.shape[0]\n",
    "    n = u.shape[0]\n",
    "    result = 0.0\n",
    "    for i in range(n):\n",
    "        result += u[i] * v[i]\n",
    "    return result"
   ]
  },
  {
   "cell_type": "code",
   "execution_count": 10,
   "id": "3bfbd6f3-8c49-4623-865b-605e80d06759",
   "metadata": {},
   "outputs": [
    {
     "data": {
      "text/plain": [
       "np.float64(95.0)"
      ]
     },
     "execution_count": 10,
     "metadata": {},
     "output_type": "execute_result"
    }
   ],
   "source": [
    "vtv_multiplication(u, v)"
   ]
  },
  {
   "cell_type": "code",
   "execution_count": 11,
   "id": "a3444b8d-d78d-4f1b-84ff-29b80e01e5e0",
   "metadata": {},
   "outputs": [
    {
     "data": {
      "text/plain": [
       "np.int64(95)"
      ]
     },
     "execution_count": 11,
     "metadata": {},
     "output_type": "execute_result"
    }
   ],
   "source": [
    "u.dot(v)"
   ]
  },
  {
   "cell_type": "markdown",
   "id": "39d2af8f-d16d-41d2-9408-5f29cc55bade",
   "metadata": {},
   "source": [
    "#### Matrix-vector multiplication"
   ]
  },
  {
   "cell_type": "code",
   "execution_count": 12,
   "id": "4ca791e8-1ac2-48aa-9fa7-ae4b3ae53b94",
   "metadata": {},
   "outputs": [],
   "source": [
    "U = np.array([[2, 4, 6, 8, 10], [1, 2, 3, 4, 5], [1, 3, 5, 7, 9]])"
   ]
  },
  {
   "cell_type": "code",
   "execution_count": 15,
   "id": "c945aeff-4082-46b2-97ea-eb4af8720afc",
   "metadata": {},
   "outputs": [],
   "source": [
    "def mtv_multiplication(U, v):\n",
    "    assert U.shape[1] == v.shape[0]\n",
    "    rows = U.shape[0]\n",
    "    result = np.zeros(rows)\n",
    "    for i in range(rows):\n",
    "        result[i] = vtv_multiplication(U[i], v)\n",
    "    return result"
   ]
  },
  {
   "cell_type": "code",
   "execution_count": 16,
   "id": "3e0b4056-a019-4fc3-9c2b-860ba6bc7a04",
   "metadata": {},
   "outputs": [
    {
     "data": {
      "text/plain": [
       "array([190.,  95., 165.])"
      ]
     },
     "execution_count": 16,
     "metadata": {},
     "output_type": "execute_result"
    }
   ],
   "source": [
    "mtv_multiplication(U, v)"
   ]
  },
  {
   "cell_type": "code",
   "execution_count": 17,
   "id": "0adac18e-0d5a-494c-b263-f01c27ce1188",
   "metadata": {},
   "outputs": [
    {
     "data": {
      "text/plain": [
       "array([190,  95, 165])"
      ]
     },
     "execution_count": 17,
     "metadata": {},
     "output_type": "execute_result"
    }
   ],
   "source": [
    "U.dot(v)"
   ]
  },
  {
   "cell_type": "markdown",
   "id": "b1b98757-fab6-4161-85d0-e13e3b7c0d47",
   "metadata": {},
   "source": [
    "#### Matrix-matrix multiplication"
   ]
  },
  {
   "cell_type": "code",
   "execution_count": 40,
   "id": "af352355-1648-4461-a83b-994f37d10f10",
   "metadata": {},
   "outputs": [
    {
     "data": {
      "text/plain": [
       "array([[0.32385586, 0.81802378, 0.73143924],\n",
       "       [0.34223697, 0.79836494, 0.34174623],\n",
       "       [0.4976365 , 0.02269524, 0.48338383],\n",
       "       [0.6543981 , 0.26352   , 0.97393952],\n",
       "       [0.88973208, 0.67943172, 0.46683459]])"
      ]
     },
     "execution_count": 40,
     "metadata": {},
     "output_type": "execute_result"
    }
   ],
   "source": [
    "V = np.random.rand(5, 3)\n",
    "V"
   ]
  },
  {
   "cell_type": "code",
   "execution_count": 20,
   "id": "94933dd0-b0ad-48d0-8410-aaf07c7d162a",
   "metadata": {},
   "outputs": [],
   "source": [
    "def mtm_multiplication(U, V):\n",
    "    assert U.shape[1] == V.shape[0]\n",
    "    rows = U.shape[0]\n",
    "    cols = V.shape[1]\n",
    "    result = np.zeros((rows, cols))\n",
    "    for i in range(cols):\n",
    "        vi = V[:, i]\n",
    "        Uvi = mtv_multiplication(U, vi)\n",
    "        result[:, i] = Uvi\n",
    "    return result"
   ]
  },
  {
   "cell_type": "code",
   "execution_count": 41,
   "id": "4c3e6a3a-42c5-485f-bea5-553453071caf",
   "metadata": {},
   "outputs": [
    {
     "data": {
      "text/plain": [
       "array([[19.13498412, 13.86815598, 18.19002839],\n",
       "       [ 9.56749206,  6.93407799,  9.09501419],\n",
       "       [16.42712462, 11.2861203 , 15.19268498]])"
      ]
     },
     "execution_count": 41,
     "metadata": {},
     "output_type": "execute_result"
    }
   ],
   "source": [
    "mtm_multiplication(U, V)"
   ]
  },
  {
   "cell_type": "code",
   "execution_count": 42,
   "id": "48644e4e-3bf4-4617-9355-3c9544fd1055",
   "metadata": {},
   "outputs": [
    {
     "data": {
      "text/plain": [
       "array([[19.13498412, 13.86815598, 18.19002839],\n",
       "       [ 9.56749206,  6.93407799,  9.09501419],\n",
       "       [16.42712462, 11.2861203 , 15.19268498]])"
      ]
     },
     "execution_count": 42,
     "metadata": {},
     "output_type": "execute_result"
    }
   ],
   "source": [
    "U.dot(V)"
   ]
  },
  {
   "cell_type": "markdown",
   "id": "1dd4f1ef-bdcb-4b55-8440-eb868d727789",
   "metadata": {},
   "source": [
    "#### Identity Matrix"
   ]
  },
  {
   "cell_type": "code",
   "execution_count": 26,
   "id": "7c584270-da77-430d-a175-6450f8b110f9",
   "metadata": {},
   "outputs": [
    {
     "data": {
      "text/plain": [
       "array([[1., 0., 0., 0., 0.],\n",
       "       [0., 1., 0., 0., 0.],\n",
       "       [0., 0., 1., 0., 0.],\n",
       "       [0., 0., 0., 1., 0.],\n",
       "       [0., 0., 0., 0., 1.]])"
      ]
     },
     "execution_count": 26,
     "metadata": {},
     "output_type": "execute_result"
    }
   ],
   "source": [
    "np.eye(5)"
   ]
  },
  {
   "cell_type": "markdown",
   "id": "5ceac936-1af3-4250-90d9-84d740f691bd",
   "metadata": {},
   "source": [
    "#### Matrix Inverse"
   ]
  },
  {
   "cell_type": "code",
   "execution_count": 48,
   "id": "7e67a770-11ed-4d07-a9f0-597af24dd40e",
   "metadata": {},
   "outputs": [
    {
     "data": {
      "text/plain": [
       "array([[0.32385586, 0.81802378, 0.73143924],\n",
       "       [0.34223697, 0.79836494, 0.34174623],\n",
       "       [0.4976365 , 0.02269524, 0.48338383]])"
      ]
     },
     "execution_count": 48,
     "metadata": {},
     "output_type": "execute_result"
    }
   ],
   "source": [
    "Vs = V[[0, 1, 2]] # matrix square\n",
    "Vs"
   ]
  },
  {
   "cell_type": "code",
   "execution_count": 51,
   "id": "bb8d3b24-fb1d-4394-8a7d-4441daa8f823",
   "metadata": {},
   "outputs": [
    {
     "data": {
      "text/plain": [
       "array([[-2.38351969,  2.38767073,  1.91860446],\n",
       "       [-0.02920509,  1.30750577, -0.88019785],\n",
       "       [ 2.45516943, -2.51946006,  0.13490044]])"
      ]
     },
     "execution_count": 51,
     "metadata": {},
     "output_type": "execute_result"
    }
   ],
   "source": [
    "Vs_inv = np.linalg.inv(Vs) # inversed matrix Vs\n",
    "Vs_inv"
   ]
  },
  {
   "cell_type": "code",
   "execution_count": 52,
   "id": "f68c4bf4-67e9-45c5-b95e-69252acc10c1",
   "metadata": {},
   "outputs": [
    {
     "data": {
      "text/plain": [
       "array([[ 1.00000000e+00, -2.49800181e-16,  1.11022302e-16],\n",
       "       [ 5.55111512e-17,  1.00000000e+00,  5.55111512e-17],\n",
       "       [ 5.55111512e-17,  1.28369537e-16,  1.00000000e+00]])"
      ]
     },
     "execution_count": 52,
     "metadata": {},
     "output_type": "execute_result"
    }
   ],
   "source": [
    "I = Vs_inv.dot(Vs) # identity matrix\n",
    "I"
   ]
  }
 ],
 "metadata": {
  "kernelspec": {
   "display_name": "Python 3 (ipykernel)",
   "language": "python",
   "name": "python3"
  },
  "language_info": {
   "codemirror_mode": {
    "name": "ipython",
    "version": 3
   },
   "file_extension": ".py",
   "mimetype": "text/x-python",
   "name": "python",
   "nbconvert_exporter": "python",
   "pygments_lexer": "ipython3",
   "version": "3.11.2"
  }
 },
 "nbformat": 4,
 "nbformat_minor": 5
}
