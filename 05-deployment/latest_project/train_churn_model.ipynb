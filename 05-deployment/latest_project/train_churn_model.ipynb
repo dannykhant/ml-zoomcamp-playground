{
 "cells": [
  {
   "cell_type": "code",
   "execution_count": 17,
   "id": "f420706f-465f-4c81-89ae-4dc9011ff3da",
   "metadata": {},
   "outputs": [],
   "source": [
    "import numpy as np\n",
    "import pandas as pd\n",
    "\n",
    "from sklearn.model_selection import train_test_split, KFold\n",
    "from sklearn.feature_extraction import DictVectorizer\n",
    "from sklearn.linear_model import LogisticRegression\n",
    "from sklearn.pipeline import make_pipeline\n",
    "from sklearn.metrics import roc_auc_score"
   ]
  },
  {
   "cell_type": "code",
   "execution_count": 8,
   "id": "692ef812-2d7b-4223-88b3-fb05be850556",
   "metadata": {},
   "outputs": [],
   "source": [
    "df = pd.read_csv(\"../../03-classification/data/telco-customer-churn.csv\")\n",
    "\n",
    "df.columns = df.columns.str.lower().str.replace(\" \", \"_\")\n",
    "\n",
    "cat_cols = df.dtypes[df.dtypes == \"object\"].index\n",
    "for c in cat_cols:\n",
    "    df[c] = df[c].str.lower().str.replace(\" \", \"_\")\n",
    "\n",
    "df.totalcharges = pd.to_numeric(df.totalcharges, errors=\"coerce\")\n",
    "df.totalcharges = df.totalcharges.fillna(0)\n",
    "\n",
    "df.churn = (df.churn == \"yes\").astype(int)"
   ]
  },
  {
   "cell_type": "code",
   "execution_count": 10,
   "id": "1a9fa102-7946-4958-a752-6ade870ce0e0",
   "metadata": {},
   "outputs": [],
   "source": [
    "num_vars = ['tenure', 'monthlycharges', 'totalcharges']\n",
    "cat_vars = ['gender', 'seniorcitizen', 'partner', 'dependents',\n",
    "       'phoneservice', 'multiplelines', 'internetservice',\n",
    "       'onlinesecurity', 'onlinebackup', 'deviceprotection', 'techsupport',\n",
    "       'streamingtv', 'streamingmovies', 'contract', 'paperlessbilling','paymentmethod']"
   ]
  },
  {
   "cell_type": "code",
   "execution_count": 13,
   "id": "2b80a393-631c-4f7e-892b-5198a66810ee",
   "metadata": {},
   "outputs": [],
   "source": [
    "df_full_train, df_test = train_test_split(df, test_size=0.2, random_state=1)\n",
    "y_full_train = df_full_train.churn.values\n",
    "y_test = df_test.churn.values"
   ]
  },
  {
   "cell_type": "code",
   "execution_count": 21,
   "id": "526e3de7-baee-424f-95d4-25fa02c62e6e",
   "metadata": {},
   "outputs": [],
   "source": [
    "def train(df, y, C=1.0):\n",
    "    X_dict = df[num_vars + cat_vars].to_dict(orient=\"records\")\n",
    "\n",
    "    pipeline = make_pipeline(\n",
    "        DictVectorizer(),\n",
    "        LogisticRegression(solver=\"liblinear\", C=C)\n",
    "    )\n",
    "\n",
    "    pipeline.fit(X_dict, y)\n",
    "\n",
    "    return pipeline"
   ]
  },
  {
   "cell_type": "code",
   "execution_count": 29,
   "id": "8a77d417-782d-4ee2-953c-6d485cf04b07",
   "metadata": {},
   "outputs": [],
   "source": [
    "def predict(df, pipeline):\n",
    "    X_dict = df[num_vars + cat_vars].to_dict(orient=\"records\")\n",
    "\n",
    "    y_pred = pipeline.predict_proba(X_dict)\n",
    "\n",
    "    return y_pred"
   ]
  },
  {
   "cell_type": "code",
   "execution_count": 30,
   "id": "9e48e286-b9c4-44ae-8460-c6c7cb0926ad",
   "metadata": {},
   "outputs": [
    {
     "name": "stdout",
     "output_type": "stream",
     "text": [
      "Score: 0.8411775349981994 +-0.007389213851662656\n"
     ]
    }
   ],
   "source": [
    "C=1.0\n",
    "n_splits = 5\n",
    "scores = []\n",
    "\n",
    "kf = KFold(n_splits=n_splits, shuffle=True, random_state=1)\n",
    "\n",
    "for train_idx, val_idx in kf.split(df_full_train):\n",
    "    df_train = df_full_train.iloc[train_idx]\n",
    "    df_val = df_full_train.iloc[val_idx]\n",
    "\n",
    "    y_train = df_train.churn.values\n",
    "    y_val = df_val.churn.values\n",
    "\n",
    "    pipeline = train(df_train, y_train)\n",
    "    y_pred = predict(df_val, pipeline)[:, 1]\n",
    "\n",
    "    score = roc_auc_score(y_val, y_pred)\n",
    "    scores.append(score)\n",
    "\n",
    "print(f\"Score: {np.mean(scores)} +-{np.std(scores)}\")"
   ]
  },
  {
   "cell_type": "code",
   "execution_count": 41,
   "id": "88630726-89f0-4535-a8b3-cd07cfd08fa3",
   "metadata": {},
   "outputs": [
    {
     "name": "stdout",
     "output_type": "stream",
     "text": [
      "Final model's score: 0.8579400803839363\n"
     ]
    }
   ],
   "source": [
    "pipeline = train(df_full_train, y_full_train)\n",
    "y_pred = predict(df_test, pipeline)[:, 1]\n",
    "\n",
    "score = roc_auc_score(y_test, y_pred)\n",
    "print(f\"Final model's score: {score}\")"
   ]
  },
  {
   "cell_type": "markdown",
   "id": "9518d4a3-1ca4-4a6e-8e43-2a99d9f267d1",
   "metadata": {},
   "source": [
    "Checking data for Pydantic"
   ]
  },
  {
   "cell_type": "code",
   "execution_count": 43,
   "id": "24b33159-bedf-4450-b65a-b1e72b6d09e5",
   "metadata": {},
   "outputs": [
    {
     "name": "stdout",
     "output_type": "stream",
     "text": [
      "count    7043.000000\n",
      "mean       32.371149\n",
      "std        24.559481\n",
      "min         0.000000\n",
      "25%         9.000000\n",
      "50%        29.000000\n",
      "75%        55.000000\n",
      "max        72.000000\n",
      "Name: tenure, dtype: float64\n",
      "\n",
      "count    7043.000000\n",
      "mean       64.761692\n",
      "std        30.090047\n",
      "min        18.250000\n",
      "25%        35.500000\n",
      "50%        70.350000\n",
      "75%        89.850000\n",
      "max       118.750000\n",
      "Name: monthlycharges, dtype: float64\n",
      "\n",
      "count    7043.000000\n",
      "mean     2279.734304\n",
      "std      2266.794470\n",
      "min         0.000000\n",
      "25%       398.550000\n",
      "50%      1394.550000\n",
      "75%      3786.600000\n",
      "max      8684.800000\n",
      "Name: totalcharges, dtype: float64\n",
      "\n",
      "gender\n",
      "male      3555\n",
      "female    3488\n",
      "Name: count, dtype: int64\n",
      "\n",
      "seniorcitizen\n",
      "0    5901\n",
      "1    1142\n",
      "Name: count, dtype: int64\n",
      "\n",
      "partner\n",
      "no     3641\n",
      "yes    3402\n",
      "Name: count, dtype: int64\n",
      "\n",
      "dependents\n",
      "no     4933\n",
      "yes    2110\n",
      "Name: count, dtype: int64\n",
      "\n",
      "phoneservice\n",
      "yes    6361\n",
      "no      682\n",
      "Name: count, dtype: int64\n",
      "\n",
      "multiplelines\n",
      "no                  3390\n",
      "yes                 2971\n",
      "no_phone_service     682\n",
      "Name: count, dtype: int64\n",
      "\n",
      "internetservice\n",
      "fiber_optic    3096\n",
      "dsl            2421\n",
      "no             1526\n",
      "Name: count, dtype: int64\n",
      "\n",
      "onlinesecurity\n",
      "no                     3498\n",
      "yes                    2019\n",
      "no_internet_service    1526\n",
      "Name: count, dtype: int64\n",
      "\n",
      "onlinebackup\n",
      "no                     3088\n",
      "yes                    2429\n",
      "no_internet_service    1526\n",
      "Name: count, dtype: int64\n",
      "\n",
      "deviceprotection\n",
      "no                     3095\n",
      "yes                    2422\n",
      "no_internet_service    1526\n",
      "Name: count, dtype: int64\n",
      "\n",
      "techsupport\n",
      "no                     3473\n",
      "yes                    2044\n",
      "no_internet_service    1526\n",
      "Name: count, dtype: int64\n",
      "\n",
      "streamingtv\n",
      "no                     2810\n",
      "yes                    2707\n",
      "no_internet_service    1526\n",
      "Name: count, dtype: int64\n",
      "\n",
      "streamingmovies\n",
      "no                     2785\n",
      "yes                    2732\n",
      "no_internet_service    1526\n",
      "Name: count, dtype: int64\n",
      "\n",
      "contract\n",
      "month-to-month    3875\n",
      "two_year          1695\n",
      "one_year          1473\n",
      "Name: count, dtype: int64\n",
      "\n",
      "paperlessbilling\n",
      "yes    4171\n",
      "no     2872\n",
      "Name: count, dtype: int64\n",
      "\n",
      "paymentmethod\n",
      "electronic_check             2365\n",
      "mailed_check                 1612\n",
      "bank_transfer_(automatic)    1544\n",
      "credit_card_(automatic)      1522\n",
      "Name: count, dtype: int64\n",
      "\n"
     ]
    }
   ],
   "source": [
    "for n in num_vars:\n",
    "    print(df[n].describe(), end=\"\\n\\n\")\n",
    "\n",
    "for c in cat_vars:\n",
    "    print(df[c].value_counts(), end=\"\\n\\n\")"
   ]
  },
  {
   "cell_type": "code",
   "execution_count": null,
   "id": "979b1603-7edd-48bf-8cda-e8c77d9381bc",
   "metadata": {},
   "outputs": [],
   "source": []
  }
 ],
 "metadata": {
  "kernelspec": {
   "display_name": "ml-zoomcamp-playground",
   "language": "python",
   "name": "ml-zoomcamp-playground"
  },
  "language_info": {
   "codemirror_mode": {
    "name": "ipython",
    "version": 3
   },
   "file_extension": ".py",
   "mimetype": "text/x-python",
   "name": "python",
   "nbconvert_exporter": "python",
   "pygments_lexer": "ipython3",
   "version": "3.11.2"
  }
 },
 "nbformat": 4,
 "nbformat_minor": 5
}
