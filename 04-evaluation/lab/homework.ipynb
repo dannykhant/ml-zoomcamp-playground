{
 "cells": [
  {
   "cell_type": "markdown",
   "id": "a7c84bcc-d8de-4b3a-8e3a-e3cd718fc8d9",
   "metadata": {},
   "source": [
    "## Module 4: Homework"
   ]
  },
  {
   "cell_type": "code",
   "execution_count": 1,
   "id": "dcf1dbde-dc52-426c-8fe1-c10b128ccda4",
   "metadata": {},
   "outputs": [],
   "source": [
    "import numpy as np\n",
    "import pandas as pd"
   ]
  },
  {
   "cell_type": "code",
   "execution_count": 11,
   "id": "3bafeada-a7e2-4101-9262-27b00cc93dae",
   "metadata": {},
   "outputs": [
    {
     "data": {
      "text/plain": [
       "Index(['lead_source', 'industry', 'number_of_courses_viewed', 'annual_income',\n",
       "       'employment_status', 'location', 'interaction_count', 'lead_score',\n",
       "       'converted'],\n",
       "      dtype='object')"
      ]
     },
     "execution_count": 11,
     "metadata": {},
     "output_type": "execute_result"
    }
   ],
   "source": [
    "df = pd.read_csv(\"../../03-classification/data/course_lead_scoring.csv\")\n",
    "df.dtypes.index"
   ]
  },
  {
   "cell_type": "markdown",
   "id": "71f6a139-c565-4dba-b6c1-196fd80ff15c",
   "metadata": {},
   "source": [
    "### Data Prep"
   ]
  },
  {
   "cell_type": "code",
   "execution_count": 3,
   "id": "5dbf3428-5b51-400e-a4df-f78c10c6aac3",
   "metadata": {},
   "outputs": [],
   "source": [
    "df.columns = df.columns.str.lower().str.replace(\" \", \"_\")"
   ]
  },
  {
   "cell_type": "code",
   "execution_count": 4,
   "id": "7d4cb445-0912-4ca4-9755-ef1b490ddc3a",
   "metadata": {},
   "outputs": [],
   "source": [
    "cat_cols = df.dtypes[df.dtypes == \"object\"].index\n",
    "for c in cat_cols:\n",
    "    df[c] = df[c].str.lower().str.replace(\" \", \"_\")"
   ]
  },
  {
   "cell_type": "code",
   "execution_count": 29,
   "id": "9f929855-d4f8-4043-a94d-3801ed069449",
   "metadata": {},
   "outputs": [],
   "source": [
    "num_vars = [\"number_of_courses_viewed\", \"annual_income\", \"interaction_count\", \"lead_score\"]\n",
    "cat_vars = ['lead_source', 'industry', 'employment_status', 'location']"
   ]
  },
  {
   "cell_type": "code",
   "execution_count": 30,
   "id": "488a5cc7-a875-4566-87a3-53e601a68c31",
   "metadata": {},
   "outputs": [],
   "source": [
    "df[num_vars] = df[num_vars].fillna(0.0)\n",
    "df[cat_vars] = df[cat_vars].fillna(\"NA\")"
   ]
  },
  {
   "cell_type": "code",
   "execution_count": 31,
   "id": "674babc4-d58c-44f1-a43e-e0f75a82a502",
   "metadata": {},
   "outputs": [],
   "source": [
    "from sklearn.model_selection import train_test_split"
   ]
  },
  {
   "cell_type": "code",
   "execution_count": 76,
   "id": "c65ee771-1461-444e-b983-9c243a8d83cc",
   "metadata": {},
   "outputs": [],
   "source": [
    "df_full_train, df_test = train_test_split(df, test_size=0.2, random_state=1)\n",
    "df_train, df_val = train_test_split(df_full_train, test_size=0.25, random_state=1)\n",
    "\n",
    "df_train.reset_index(drop=True)\n",
    "df_val.reset_index(drop=True)\n",
    "df_test.reset_index(drop=True)\n",
    "\n",
    "y_train = df_train.converted.values\n",
    "y_val = df_val.converted.values\n",
    "y_test = df_test.converted.values\n",
    "\n",
    "del df_train[\"converted\"]\n",
    "del df_val[\"converted\"]\n",
    "del df_test[\"converted\"]"
   ]
  },
  {
   "cell_type": "markdown",
   "id": "d94d9d19-b21b-42d7-b80b-accecde8908b",
   "metadata": {},
   "source": [
    "**Q1: ROC AUC feature importance**"
   ]
  },
  {
   "cell_type": "code",
   "execution_count": 77,
   "id": "02f1ba08-9255-46d9-ab7a-2ee7017f0c8c",
   "metadata": {},
   "outputs": [],
   "source": [
    "from sklearn.metrics import roc_auc_score"
   ]
  },
  {
   "cell_type": "code",
   "execution_count": 78,
   "id": "847babf2-d15b-4482-8577-e4da3cf22e22",
   "metadata": {},
   "outputs": [
    {
     "data": {
      "text/plain": [
       "array([['annual_income', '0.5519578313253012'],\n",
       "       ['interaction_count', '0.6144993577250176'],\n",
       "       ['lead_score', '0.738270176293409'],\n",
       "       ['number_of_courses_viewed', '0.7635680590007088']], dtype='<U32')"
      ]
     },
     "execution_count": 78,
     "metadata": {},
     "output_type": "execute_result"
    }
   ],
   "source": [
    "scores = []\n",
    "\n",
    "for v in num_vars:\n",
    "    score = roc_auc_score(y_train, df_train[v])\n",
    "    scores.append((v, score))\n",
    "\n",
    "np.sort(np.array(scores), axis=0)"
   ]
  },
  {
   "cell_type": "markdown",
   "id": "8af827d3-2b9a-4483-8afc-f65eefb6e0fb",
   "metadata": {},
   "source": [
    "**Q2: Training the model**"
   ]
  },
  {
   "cell_type": "code",
   "execution_count": 79,
   "id": "a878a9cb-3afd-4546-8553-add119a47249",
   "metadata": {},
   "outputs": [],
   "source": [
    "from sklearn.feature_extraction import DictVectorizer\n",
    "from sklearn.linear_model import LogisticRegression"
   ]
  },
  {
   "cell_type": "code",
   "execution_count": 80,
   "id": "0d711445-9501-4ea9-82ae-06b47536ee67",
   "metadata": {},
   "outputs": [],
   "source": [
    "def train_model(df, y, C=1.0):\n",
    "    dict_ = df[cat_vars + num_vars].to_dict(orient=\"records\")\n",
    "\n",
    "    dv = DictVectorizer(sparse=False)\n",
    "    X = dv.fit_transform(dict_)\n",
    "\n",
    "    model = LogisticRegression(solver=\"liblinear\", C=C, max_iter=1000)\n",
    "    model.fit(X, y)\n",
    "\n",
    "    return dv, model"
   ]
  },
  {
   "cell_type": "code",
   "execution_count": 86,
   "id": "b11e4c86-213b-40c5-85b1-8a0253adc6c7",
   "metadata": {},
   "outputs": [],
   "source": [
    "def predict(df, dv, model):\n",
    "    dict_ = df[cat_vars + num_vars].to_dict(orient=\"records\")\n",
    "    \n",
    "    X = dv.transform(dict_)\n",
    "    y_pred = model.predict_proba(X)[:, 1]\n",
    "\n",
    "    return y_pred"
   ]
  },
  {
   "cell_type": "code",
   "execution_count": 87,
   "id": "55cd869a-a3b9-43b0-97a9-3e63c9c25d1e",
   "metadata": {},
   "outputs": [],
   "source": [
    "dv, model = train_model(df_train, y_train)\n",
    "y_pred = predict(df_val, dv, model)"
   ]
  },
  {
   "cell_type": "code",
   "execution_count": 88,
   "id": "321189d1-a408-4edc-8418-1d9da387788c",
   "metadata": {},
   "outputs": [
    {
     "data": {
      "text/plain": [
       "0.817"
      ]
     },
     "execution_count": 88,
     "metadata": {},
     "output_type": "execute_result"
    }
   ],
   "source": [
    "round(roc_auc_score(y_val, y_pred), 3)"
   ]
  },
  {
   "cell_type": "markdown",
   "id": "f0dfa07f-1c82-4353-a176-a15edfd6a028",
   "metadata": {},
   "source": [
    "**Q3: Precision & Recall**"
   ]
  },
  {
   "cell_type": "code",
   "execution_count": 93,
   "id": "4b6e85b0-acdd-4457-a180-63a5cd7b9215",
   "metadata": {},
   "outputs": [],
   "source": [
    "import matplotlib.pyplot as plt"
   ]
  },
  {
   "cell_type": "code",
   "execution_count": 94,
   "id": "e3138c80-7b0f-40f9-9803-2eeb4df4da2b",
   "metadata": {},
   "outputs": [],
   "source": [
    "thresholds = np.linspace(0, 1, 101)\n",
    "\n",
    "scores = []\n",
    "\n",
    "for t in thresholds:\n",
    "    actual_pos = (y_val == 1)\n",
    "    actual_neg = (y_val == 0)\n",
    "\n",
    "    predict_pos = (y_pred >= t)\n",
    "    predict_neg = (y_pred < t)\n",
    "\n",
    "    tp = (predict_pos & actual_pos).sum()\n",
    "    tn = (predict_neg & actual_neg).sum()\n",
    "\n",
    "    fp = (predict_pos & actual_neg).sum()\n",
    "    fn = (predict_neg & actual_pos).sum()\n",
    "\n",
    "    scores.append((t, tp, tn, fp, fn))\n",
    "\n",
    "columns = [\"ths\", \"tp\", \"tn\", \"fp\", \"fn\"]\n",
    "df_scores = pd.DataFrame(scores, columns=columns)\n",
    "\n",
    "df_scores[\"p\"] = df_scores.tp / (df_scores.tp + df_scores.fp)\n",
    "df_scores[\"r\"] = df_scores.tp / (df_scores.tp + df_scores.fn)"
   ]
  },
  {
   "cell_type": "code",
   "execution_count": 100,
   "id": "2bf4a93d-163c-440a-ab42-b84f80c7458a",
   "metadata": {},
   "outputs": [
    {
     "data": {
      "text/plain": [
       "<matplotlib.legend.Legend at 0x7f40e038d0d0>"
      ]
     },
     "execution_count": 100,
     "metadata": {},
     "output_type": "execute_result"
    },
    {
     "data": {
      "image/png": "[encoded data removed]",
      "text/plain": [
       "<Figure size 640x480 with 1 Axes>"
      ]
     },
     "metadata": {},
     "output_type": "display_data"
    }
   ],
   "source": [
    "plt.plot(df_scores.ths, df_scores.p, label=\"P\")\n",
    "plt.plot(df_scores.ths, df_scores.r, label=\"R\")\n",
    "\n",
    "plt.xlabel(\"Threshold\")\n",
    "plt.ylabel(\"Score\")\n",
    "\n",
    "plt.legend()"
   ]
  },
  {
   "cell_type": "markdown",
   "id": "c1c8f277-1243-44c2-b2f5-2bfd0dd4bb18",
   "metadata": {},
   "source": [
    "**Q4: F1 score**"
   ]
  },
  {
   "cell_type": "code",
   "execution_count": 101,
   "id": "6db5a640-3520-476d-ad90-b762298b9078",
   "metadata": {},
   "outputs": [],
   "source": [
    "df_scores[\"f1\"] = 2 * (df_scores.p * df_scores.r) / (df_scores.p + df_scores.r)"
   ]
  },
  {
   "cell_type": "code",
   "execution_count": 103,
   "id": "64ee20f7-9e8c-4d5b-b3a6-601a20ce44a7",
   "metadata": {},
   "outputs": [
    {
     "data": {
      "text/plain": [
       "[<matplotlib.lines.Line2D at 0x7f40e03fe250>]"
      ]
     },
     "execution_count": 103,
     "metadata": {},
     "output_type": "execute_result"
    },
    {
     "data": {
      "image/png": "[encoded data removed]",
      "text/plain": [
       "<Figure size 640x480 with 1 Axes>"
      ]
     },
     "metadata": {},
     "output_type": "display_data"
    }
   ],
   "source": [
    "plt.plot(df_scores.ths, df_scores.f1)"
   ]
  },
  {
   "cell_type": "code",
   "execution_count": 107,
   "id": "e1dabd63-dd44-4341-9e28-8f38cd02cacb",
   "metadata": {},
   "outputs": [
    {
     "data": {
      "text/html": [
       "<div>\n",
       "<style scoped>\n",
       "    .dataframe tbody tr th:only-of-type {\n",
       "        vertical-align: middle;\n",
       "    }\n",
       "\n",
       "    .dataframe tbody tr th {\n",
       "        vertical-align: top;\n",
       "    }\n",
       "\n",
       "    .dataframe thead th {\n",
       "        text-align: right;\n",
       "    }\n",
       "</style>\n",
       "<table border=\"1\" class=\"dataframe\">\n",
       "  <thead>\n",
       "    <tr style=\"text-align: right;\">\n",
       "      <th></th>\n",
       "      <th>ths</th>\n",
       "      <th>tp</th>\n",
       "      <th>tn</th>\n",
       "      <th>fp</th>\n",
       "      <th>fn</th>\n",
       "      <th>p</th>\n",
       "      <th>r</th>\n",
       "      <th>f1</th>\n",
       "    </tr>\n",
       "  </thead>\n",
       "  <tbody>\n",
       "    <tr>\n",
       "      <th>57</th>\n",
       "      <td>0.57</td>\n",
       "      <td>156</td>\n",
       "      <td>65</td>\n",
       "      <td>57</td>\n",
       "      <td>15</td>\n",
       "      <td>0.732394</td>\n",
       "      <td>0.912281</td>\n",
       "      <td>0.8125</td>\n",
       "    </tr>\n",
       "  </tbody>\n",
       "</table>\n",
       "</div>"
      ],
      "text/plain": [
       "     ths   tp  tn  fp  fn         p         r      f1\n",
       "57  0.57  156  65  57  15  0.732394  0.912281  0.8125"
      ]
     },
     "execution_count": 107,
     "metadata": {},
     "output_type": "execute_result"
    }
   ],
   "source": [
    "df_scores[df_scores.f1 == df_scores.f1.max()]"
   ]
  },
  {
   "cell_type": "markdown",
   "id": "4f9f862b-3856-4ff7-8eac-1e4fd6acc546",
   "metadata": {},
   "source": [
    "**Q5: 5-Fold CV**"
   ]
  },
  {
   "cell_type": "code",
   "execution_count": 108,
   "id": "6f7b4526-51c8-4e53-8aa2-b3ffdb3f1586",
   "metadata": {},
   "outputs": [],
   "source": [
    "from sklearn.model_selection import KFold"
   ]
  },
  {
   "cell_type": "code",
   "execution_count": 116,
   "id": "c045a7a7-35e2-4ba9-aa4a-4d318378a923",
   "metadata": {},
   "outputs": [],
   "source": [
    "kf = KFold(n_splits=5, shuffle=True, random_state=1)\n",
    "scores = []\n",
    "\n",
    "for train_idx, val_idx in kf.split(df_full_train):\n",
    "    df_train = df_full_train.iloc[train_idx]\n",
    "    df_val = df_full_train.iloc[val_idx]\n",
    "\n",
    "    y_train = df_train.converted.values\n",
    "    y_val = df_val.converted.values\n",
    "\n",
    "    dv, model = train_model(df_train, y_train)\n",
    "    y_pred = predict(df_val, dv, model)\n",
    "\n",
    "    score = roc_auc_score(y_val, y_pred)\n",
    "    scores.append(score)"
   ]
  },
  {
   "cell_type": "code",
   "execution_count": 120,
   "id": "b8f5347d-dfd0-4242-b229-08a29cac5258",
   "metadata": {},
   "outputs": [
    {
     "data": {
      "text/plain": [
       "(np.float64(0.822), np.float64(0.036))"
      ]
     },
     "execution_count": 120,
     "metadata": {},
     "output_type": "execute_result"
    }
   ],
   "source": [
    "np.mean(scores).round(3), np.std(scores).round(3)"
   ]
  },
  {
   "cell_type": "markdown",
   "id": "d8b375e2-e761-40d6-9ef8-3eee80090b9d",
   "metadata": {},
   "source": [
    "**Q6: Hyperparameter Tuning**"
   ]
  },
  {
   "cell_type": "code",
   "execution_count": 121,
   "id": "054af025-e8a6-40c4-92fb-30299299af72",
   "metadata": {},
   "outputs": [
    {
     "name": "stdout",
     "output_type": "stream",
     "text": [
      "1e-06 >> (np.float64(0.56), np.float64(0.024))\n",
      "0.001 >> (np.float64(0.867), np.float64(0.029))\n",
      "1 >> (np.float64(0.822), np.float64(0.036))\n"
     ]
    }
   ],
   "source": [
    "for C in [0.000001, 0.001, 1]:\n",
    "    kf = KFold(n_splits=5, shuffle=True, random_state=1)\n",
    "    scores = []\n",
    "    \n",
    "    for train_idx, val_idx in kf.split(df_full_train):\n",
    "        df_train = df_full_train.iloc[train_idx]\n",
    "        df_val = df_full_train.iloc[val_idx]\n",
    "    \n",
    "        y_train = df_train.converted.values\n",
    "        y_val = df_val.converted.values\n",
    "    \n",
    "        dv, model = train_model(df_train, y_train, C=C)\n",
    "        y_pred = predict(df_val, dv, model)\n",
    "    \n",
    "        score = roc_auc_score(y_val, y_pred)\n",
    "        scores.append(score)\n",
    "\n",
    "    print(f\"{C} >> {np.mean(scores).round(3), np.std(scores).round(3)}\")"
   ]
  },
  {
   "cell_type": "code",
   "execution_count": null,
   "id": "fd68ef5e-13a7-4f10-a0ee-f9603f1630d6",
   "metadata": {},
   "outputs": [],
   "source": []
  }
 ],
 "metadata": {
  "kernelspec": {
   "display_name": "ml-zoomcamp-playground",
   "language": "python",
   "name": "ml-zoomcamp-playground"
  },
  "language_info": {
   "codemirror_mode": {
    "name": "ipython",
    "version": 3
   },
   "file_extension": ".py",
   "mimetype": "text/x-python",
   "name": "python",
   "nbconvert_exporter": "python",
   "pygments_lexer": "ipython3",
   "version": "3.11.2"
  }
 },
 "nbformat": 4,
 "nbformat_minor": 5
}
